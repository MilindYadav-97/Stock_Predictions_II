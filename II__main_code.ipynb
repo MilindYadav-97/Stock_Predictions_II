{
  "nbformat": 4,
  "nbformat_minor": 0,
  "metadata": {
    "colab": {
      "name": "IEEE_(fbProphet)___THE_FINAL_KON_Kamehameha.ipynb",
      "provenance": [],
      "collapsed_sections": []
    },
    "kernelspec": {
      "display_name": "Python 3",
      "language": "python",
      "name": "python3"
    },
    "language_info": {
      "codemirror_mode": {
        "name": "ipython",
        "version": 3
      },
      "file_extension": ".py",
      "mimetype": "text/x-python",
      "name": "python",
      "nbconvert_exporter": "python",
      "pygments_lexer": "ipython3",
      "version": "3.7.3"
    }
  },
  "cells": [
    {
      "cell_type": "code",
      "metadata": {
        "colab_type": "code",
        "id": "O49vj8RKXLM9",
        "colab": {}
      },
      "source": [
        "# while True:\n",
        "# ping = requests.get('https://query1.finance.yahoo.com/v8/finance/chart/%5ENSEI?range=3d&interval=1m').json()\n",
        "# close = ping['chart']['result'][0]['indicators']['quote'][0]['close']\n",
        "# timestamp = ping['chart']['result'][0]['timestamp']\n",
        "# data_1 = pd.DataFrame({'Close': close, 'Time':timestamp})\n",
        "# data_1['Time_b'] = [datetime.fromtimestamp(x) for x in data_1['Time']]\n",
        "# data_1.drop('Time', axis=1,inplace=True)\n",
        "# data_1.set_index('Time_b',inplace=True)"
      ],
      "execution_count": 2,
      "outputs": []
    },
    {
      "cell_type": "code",
      "metadata": {
        "id": "oFWsYsb2Axpw",
        "colab_type": "code",
        "colab": {}
      },
      "source": [
        "# !lscpu |grep 'Model name'\n",
        "# !lscpu | grep 'Socket(s):'\n",
        "# !lscpu | grep 'Core(s) per socket:'\n",
        "# !lscpu | grep 'Thread(s) per core'\n",
        "# !lscpu | grep \"L3 cache\" \n",
        "# !lscpu | grep \"MHz\""
      ],
      "execution_count": 3,
      "outputs": []
    },
    {
      "cell_type": "code",
      "metadata": {
        "id": "0cqmtSMt1E2W",
        "colab_type": "code",
        "colab": {}
      },
      "source": [
        "import pandas as pd\n",
        "from datetime import datetime\n",
        "import time\n",
        "import requests"
      ],
      "execution_count": 4,
      "outputs": []
    },
    {
      "cell_type": "code",
      "metadata": {
        "id": "7O-GEm4EirDV",
        "colab_type": "code",
        "colab": {}
      },
      "source": [
        "data_1=pd.read_csv('Apple_2.csv')"
      ],
      "execution_count": 5,
      "outputs": []
    },
    {
      "cell_type": "code",
      "metadata": {
        "colab_type": "code",
        "id": "AFFlSqu8tnJW",
        "colab": {}
      },
      "source": [
        " data_1=data_1.reset_index()"
      ],
      "execution_count": 6,
      "outputs": []
    },
    {
      "cell_type": "markdown",
      "metadata": {
        "colab_type": "text",
        "id": "jIldrdsQIMxf"
      },
      "source": [
        "Load the required files before proceeding further:"
      ]
    },
    {
      "cell_type": "code",
      "metadata": {
        "colab_type": "code",
        "id": "1OsjgxmazHe_",
        "colab": {}
      },
      "source": [
        "df = data_1"
      ],
      "execution_count": 7,
      "outputs": []
    },
    {
      "cell_type": "code",
      "metadata": {
        "colab_type": "code",
        "id": "1Z_5eJhINsZZ",
        "colab": {
          "base_uri": "https://localhost:8080/",
          "height": 34
        },
        "outputId": "06c00723-860f-4267-cd28-e9a3cd78a353"
      },
      "source": [
        "%tensorflow_version 1.x\n",
        "import helpermethods\n",
        "import tensorflow as tf\n",
        "import numpy as np\n",
        "import sys\n",
        "import os\n",
        "from tensorflow.keras.layers import Dense, Input, RNN\n",
        "from tensorflow.keras.models import Model, Sequential, load_model\n",
        "from tensorflow.keras import backend as K\n",
        "from tensorflow.keras.optimizers import Adam"
      ],
      "execution_count": 8,
      "outputs": [
        {
          "output_type": "stream",
          "text": [
            "TensorFlow 1.x selected.\n"
          ],
          "name": "stdout"
        }
      ]
    },
    {
      "cell_type": "code",
      "metadata": {
        "colab_type": "code",
        "id": "vtnmHM-pnn0B",
        "colab": {
          "base_uri": "https://localhost:8080/",
          "height": 34
        },
        "outputId": "882a31db-cc7d-4eff-a0ad-fe7ecc953d70"
      },
      "source": [
        "print(tf.__version__)"
      ],
      "execution_count": 9,
      "outputs": [
        {
          "output_type": "stream",
          "text": [
            "1.15.2\n"
          ],
          "name": "stdout"
        }
      ]
    },
    {
      "cell_type": "code",
      "metadata": {
        "colab_type": "code",
        "id": "g5TT_EX-N0dx",
        "colab": {}
      },
      "source": [
        "#Import keras grnn\n",
        "from rnn import FastGRNNCellKeras, FastRNNCellKeras"
      ],
      "execution_count": 10,
      "outputs": []
    },
    {
      "cell_type": "markdown",
      "metadata": {
        "colab_type": "text",
        "id": "MbrEL7OdIqJM"
      },
      "source": [
        "Data Preprocessing"
      ]
    },
    {
      "cell_type": "code",
      "metadata": {
        "colab_type": "code",
        "id": "FgyGwHV7U0Ke",
        "colab": {}
      },
      "source": [
        "import math\n",
        "from sklearn.preprocessing import MinMaxScaler\n",
        "from sklearn.metrics import mean_squared_error "
      ],
      "execution_count": 11,
      "outputs": []
    },
    {
      "cell_type": "code",
      "metadata": {
        "colab_type": "code",
        "id": "lJgCAv9xblWl",
        "colab": {}
      },
      "source": [
        "df = df[df['Close'].notna()]"
      ],
      "execution_count": 12,
      "outputs": []
    },
    {
      "cell_type": "code",
      "metadata": {
        "colab_type": "code",
        "id": "YHk32cpVbA88",
        "colab": {}
      },
      "source": [
        "data = pd.DataFrame()\n",
        "data['Close']=df['Close']"
      ],
      "execution_count": 13,
      "outputs": []
    },
    {
      "cell_type": "code",
      "metadata": {
        "colab_type": "code",
        "id": "UN2fZrfYbc5n",
        "colab": {
          "base_uri": "https://localhost:8080/",
          "height": 86
        },
        "outputId": "cdfc0819-cf54-435a-da35-0e7510b07ff3"
      },
      "source": [
        "count_nan = len(df) - df.count()\n",
        "print(count_nan)"
      ],
      "execution_count": 14,
      "outputs": [
        {
          "output_type": "stream",
          "text": [
            "index     0\n",
            "Time_b    0\n",
            "Close     0\n",
            "dtype: int64\n"
          ],
          "name": "stdout"
        }
      ]
    },
    {
      "cell_type": "code",
      "metadata": {
        "colab_type": "code",
        "id": "R1Rab4btiv66",
        "colab": {
          "base_uri": "https://localhost:8080/",
          "height": 259
        },
        "outputId": "edc9edcc-98ae-4741-c23d-6b39b8718a82"
      },
      "source": [
        "print(data)"
      ],
      "execution_count": 15,
      "outputs": [
        {
          "output_type": "stream",
          "text": [
            "          Close\n",
            "0    387.940002\n",
            "1    388.350006\n",
            "2    388.806702\n",
            "3    389.459991\n",
            "4    389.089996\n",
            "..          ...\n",
            "385  389.260010\n",
            "386  389.250000\n",
            "387  389.195007\n",
            "388  389.049988\n",
            "389  389.089996\n",
            "\n",
            "[389 rows x 1 columns]\n"
          ],
          "name": "stdout"
        }
      ]
    },
    {
      "cell_type": "code",
      "metadata": {
        "colab_type": "code",
        "id": "4ia3EDW2Uddv",
        "colab": {}
      },
      "source": [
        "#Converting the dataframe to a numpy array\n",
        "dataset = data.values\n",
        "#Get /Compute the number of rows to train the model on\n",
        "training_data_len = math.ceil( len(dataset)- 50) \n",
        "\n",
        "\n",
        "\n",
        "#Scale the all of the data to be values between 0 and 1 \n",
        "scaler = MinMaxScaler(feature_range=(0, 1)) \n",
        "scaled_data = scaler.fit_transform(dataset)\n",
        "\n",
        "\n",
        "#Create the scaled training data set \n",
        "train_data = scaled_data[0:training_data_len  , : ]\n",
        "#Split the data into x_train and y_train data sets\n",
        "x_train=[]\n",
        "y_train = []\n",
        "for i in range(10,len(train_data)):\n",
        "    x_train.append(train_data[i-10:i,0])\n",
        "    y_train.append(train_data[i,0])\n",
        "\n",
        "\n",
        "#Convert x_train and y_train to numpy arrays\n",
        "x_train, y_train = np.array(x_train), np.array(y_train)    \n",
        "\n",
        "\n",
        "#Reshape the data into the shape accepted by the LSTM\n",
        "x_train = np.reshape(x_train, (x_train.shape[0],x_train.shape[1],1))"
      ],
      "execution_count": 16,
      "outputs": []
    },
    {
      "cell_type": "code",
      "metadata": {
        "colab_type": "code",
        "id": "uTip75ZPs_2t",
        "colab": {}
      },
      "source": [
        "\n",
        "#Test data set\n",
        "test_data = scaled_data[training_data_len - 10: , : ]\n",
        "#Create the x_test and y_test data sets\n",
        "x_test = []\n",
        "y_test =  dataset[training_data_len : , : ] \n",
        "for i in range(10,len(test_data)):\n",
        "    x_test.append(test_data[i-10:i,0])\n",
        "\n",
        "\n",
        "\n",
        "#Convert x_test to a numpy array \n",
        "x_test = np.array(x_test)\n",
        "\n",
        "#Reshape the data into the shape accepted by the LSTM\n",
        "x_test = np.reshape(x_test, (x_test.shape[0],x_test.shape[1],1))"
      ],
      "execution_count": 17,
      "outputs": []
    },
    {
      "cell_type": "code",
      "metadata": {
        "colab_type": "code",
        "id": "FxedeCKyODCK",
        "colab": {}
      },
      "source": [
        "# dataDimension = int(x_train.shape[1]) - 1\n",
        "dataDimension = int(x_train.shape[1]) \n",
        "# print(dataDimension)"
      ],
      "execution_count": 18,
      "outputs": []
    },
    {
      "cell_type": "code",
      "metadata": {
        "colab_type": "code",
        "id": "d3tfurMcUQy4",
        "colab": {}
      },
      "source": [
        "cell = \"FastRNN\" \n",
        " \n",
        "inputDims = 10 \n",
        "hiddenDims = 50\n",
        " \n",
        "totalEpochs = 40\n",
        "batchSize = 10\n",
        " \n",
        "learningRate = 0.001 \n",
        "decayStep = 50\n",
        "decayRate = 0.1\n",
        " \n",
        "outFile = None \n",
        " \n",
        "#low-rank parameterisation for weight matrices. None => Full Rank\n",
        "wRank = None \n",
        "uRank = None \n",
        " \n",
        "# Sparsity of the weight matrices. x => 100*x % are non-zeros\n",
        "# Note: Sparsity inducing is not supported in this code. \n",
        "sW = 1.0 \n",
        "sU = 1.0\n",
        " \n",
        "#Non-linearities for the RNN architecture. Can choose from \"tanh, sigmoid, relu, quantTanh, quantSigm\"\n",
        "update_non_linearity = \"relu\"\n",
        "gate_non_linearity = \"relu\""
      ],
      "execution_count": 19,
      "outputs": []
    },
    {
      "cell_type": "code",
      "metadata": {
        "colab_type": "code",
        "id": "SQBrgqjkF8qz",
        "colab": {}
      },
      "source": [
        "assert dataDimension % inputDims == 0, \"Infeasible per step input, Timesteps have to be integer\"\n"
      ],
      "execution_count": 20,
      "outputs": []
    },
    {
      "cell_type": "code",
      "metadata": {
        "colab_type": "code",
        "id": "sAVgj0mYh-he",
        "colab": {}
      },
      "source": [
        "cell == \"FastRNN\"\n",
        "FastCell = FastRNNCellKeras(hiddenDims,update_non_linearity=update_non_linearity, wRank=wRank, uRank=uRank)"
      ],
      "execution_count": 21,
      "outputs": []
    },
    {
      "cell_type": "code",
      "metadata": {
        "colab_type": "code",
        "id": "73q6BOBO7soH",
        "colab": {}
      },
      "source": [
        "from tensorflow.keras import layers\n"
      ],
      "execution_count": 22,
      "outputs": []
    },
    {
      "cell_type": "markdown",
      "metadata": {
        "colab_type": "text",
        "id": "VsEYrwD7JHQq"
      },
      "source": [
        "Create Model"
      ]
    },
    {
      "cell_type": "code",
      "metadata": {
        "colab_type": "code",
        "id": "5_-ZEVwrl-13",
        "colab": {
          "base_uri": "https://localhost:8080/",
          "height": 400
        },
        "outputId": "c892f5da-2249-4929-896c-388149b2e32b"
      },
      "source": [
        "x = inputs = Input(shape=[int(dataDimension / inputDims), inputDims], name='input')\n",
        "layer_shape = K.int_shape(x)#x.get_shape()\n",
        "print(layer_shape)\n",
        "x = RNN(FastCell, return_sequences=False, name='rnn')(x)\n",
        "\n",
        "\n",
        "out = Dense(1, activation='relu', name='dense')(x)\n",
        "model = Model(inputs=inputs, outputs=out)\n",
        "Adam_ = Adam(lr=0.001)\n",
        "\n",
        "model.compile(optimizer=Adam_, loss='mean_squared_error', metrics=['accuracy'])\n",
        "\n",
        "model.summary()"
      ],
      "execution_count": 23,
      "outputs": [
        {
          "output_type": "stream",
          "text": [
            "(None, 1, 10)\n",
            "WARNING:tensorflow:From /tensorflow-1.15.2/python3.6/tensorflow_core/python/keras/initializers.py:143: calling RandomNormal.__init__ (from tensorflow.python.ops.init_ops) with dtype is deprecated and will be removed in a future version.\n",
            "Instructions for updating:\n",
            "Call initializer instance with the dtype argument instead of passing it to the constructor\n",
            "WARNING:tensorflow:From /tensorflow-1.15.2/python3.6/tensorflow_core/python/ops/resource_variable_ops.py:1630: calling BaseResourceVariable.__init__ (from tensorflow.python.ops.resource_variable_ops) with constraint is deprecated and will be removed in a future version.\n",
            "Instructions for updating:\n",
            "If using Keras pass *_constraint arguments to layers.\n",
            "Model: \"model\"\n",
            "_________________________________________________________________\n",
            "Layer (type)                 Output Shape              Param #   \n",
            "=================================================================\n",
            "input (InputLayer)           [(None, 1, 10)]           0         \n",
            "_________________________________________________________________\n",
            "rnn (RNN)                    (None, 50)                3052      \n",
            "_________________________________________________________________\n",
            "dense (Dense)                (None, 1)                 51        \n",
            "=================================================================\n",
            "Total params: 3,103\n",
            "Trainable params: 3,103\n",
            "Non-trainable params: 0\n",
            "_________________________________________________________________\n"
          ],
          "name": "stdout"
        }
      ]
    },
    {
      "cell_type": "code",
      "metadata": {
        "colab_type": "code",
        "id": "3M5yZa52XJ7N",
        "colab": {
          "base_uri": "https://localhost:8080/",
          "height": 86
        },
        "outputId": "f39fa8a7-ce9d-4dbf-eb9f-20e86040e323"
      },
      "source": [
        "print(x_train.shape)\n",
        "x_train = np.reshape(x_train,[x_train.shape[0],1,10])\n",
        "print(x_test.shape)\n",
        "x_test = np.reshape(x_test,[x_test.shape[0],1,10])\n",
        "print(x_train.shape)\n",
        "print(x_test.shape)"
      ],
      "execution_count": 24,
      "outputs": [
        {
          "output_type": "stream",
          "text": [
            "(329, 10, 1)\n",
            "(50, 10, 1)\n",
            "(329, 1, 10)\n",
            "(50, 1, 10)\n"
          ],
          "name": "stdout"
        }
      ]
    },
    {
      "cell_type": "code",
      "metadata": {
        "colab_type": "code",
        "id": "vGAGVKNIXu1m",
        "colab": {
          "base_uri": "https://localhost:8080/",
          "height": 34
        },
        "outputId": "d8f4ea1f-ebb2-4f35-b09c-3e0f317ec062"
      },
      "source": [
        "import time\n",
        "from keras.callbacks import CSVLogger\n",
        "\n",
        "csv_logger = CSVLogger(\"model_history_log_fastrnn.csv\", append=True)\n"
      ],
      "execution_count": 25,
      "outputs": [
        {
          "output_type": "stream",
          "text": [
            "Using TensorFlow backend.\n"
          ],
          "name": "stderr"
        }
      ]
    },
    {
      "cell_type": "code",
      "metadata": {
        "colab_type": "code",
        "id": "oJHvcDEXcFz7",
        "colab": {
          "base_uri": "https://localhost:8080/",
          "height": 1000
        },
        "outputId": "21f4a9b6-ab71-4746-dc51-a8885c0ca33d"
      },
      "source": [
        "start = time.time()\n",
        "model.fit(x_train, y_train, batchSize, epochs=totalEpochs, validation_data=(x_test, scaled_data[training_data_len : , : ]), callbacks=[csv_logger])\n",
        "stop = time.time()\n",
        "print(f\"Training time: {stop - start}s\")"
      ],
      "execution_count": 26,
      "outputs": [
        {
          "output_type": "stream",
          "text": [
            "WARNING:tensorflow:From /tensorflow-1.15.2/python3.6/tensorflow_core/python/ops/math_grad.py:1424: where (from tensorflow.python.ops.array_ops) is deprecated and will be removed in a future version.\n",
            "Instructions for updating:\n",
            "Use tf.where in 2.0, which has the same broadcast rule as np.where\n",
            "Train on 329 samples, validate on 50 samples\n",
            "Epoch 1/40\n",
            "329/329 [==============================] - 1s 2ms/sample - loss: 0.0670 - acc: 0.0030 - val_loss: 0.0167 - val_acc: 0.0000e+00\n",
            "Epoch 2/40\n",
            "329/329 [==============================] - 0s 276us/sample - loss: 0.0343 - acc: 0.0030 - val_loss: 0.0096 - val_acc: 0.0000e+00\n",
            "Epoch 3/40\n",
            "329/329 [==============================] - 0s 315us/sample - loss: 0.0277 - acc: 0.0030 - val_loss: 0.0089 - val_acc: 0.0000e+00\n",
            "Epoch 4/40\n",
            "329/329 [==============================] - 0s 242us/sample - loss: 0.0243 - acc: 0.0061 - val_loss: 0.0083 - val_acc: 0.0000e+00\n",
            "Epoch 5/40\n",
            "329/329 [==============================] - 0s 243us/sample - loss: 0.0211 - acc: 0.0061 - val_loss: 0.0076 - val_acc: 0.0000e+00\n",
            "Epoch 6/40\n",
            "329/329 [==============================] - 0s 319us/sample - loss: 0.0181 - acc: 0.0061 - val_loss: 0.0069 - val_acc: 0.0000e+00\n",
            "Epoch 7/40\n",
            "329/329 [==============================] - 0s 324us/sample - loss: 0.0154 - acc: 0.0061 - val_loss: 0.0064 - val_acc: 0.0000e+00\n",
            "Epoch 8/40\n",
            "329/329 [==============================] - 0s 286us/sample - loss: 0.0130 - acc: 0.0061 - val_loss: 0.0060 - val_acc: 0.0000e+00\n",
            "Epoch 9/40\n",
            "329/329 [==============================] - 0s 270us/sample - loss: 0.0111 - acc: 0.0061 - val_loss: 0.0055 - val_acc: 0.0000e+00\n",
            "Epoch 10/40\n",
            "329/329 [==============================] - 0s 279us/sample - loss: 0.0095 - acc: 0.0061 - val_loss: 0.0055 - val_acc: 0.0000e+00\n",
            "Epoch 11/40\n",
            "329/329 [==============================] - 0s 234us/sample - loss: 0.0082 - acc: 0.0061 - val_loss: 0.0052 - val_acc: 0.0000e+00\n",
            "Epoch 12/40\n",
            "329/329 [==============================] - 0s 255us/sample - loss: 0.0073 - acc: 0.0061 - val_loss: 0.0049 - val_acc: 0.0000e+00\n",
            "Epoch 13/40\n",
            "329/329 [==============================] - 0s 265us/sample - loss: 0.0066 - acc: 0.0061 - val_loss: 0.0048 - val_acc: 0.0000e+00\n",
            "Epoch 14/40\n",
            "329/329 [==============================] - 0s 253us/sample - loss: 0.0061 - acc: 0.0061 - val_loss: 0.0049 - val_acc: 0.0000e+00\n",
            "Epoch 15/40\n",
            "329/329 [==============================] - 0s 235us/sample - loss: 0.0057 - acc: 0.0061 - val_loss: 0.0051 - val_acc: 0.0000e+00\n",
            "Epoch 16/40\n",
            "329/329 [==============================] - 0s 234us/sample - loss: 0.0054 - acc: 0.0061 - val_loss: 0.0047 - val_acc: 0.0000e+00\n",
            "Epoch 17/40\n",
            "329/329 [==============================] - 0s 285us/sample - loss: 0.0052 - acc: 0.0061 - val_loss: 0.0049 - val_acc: 0.0000e+00\n",
            "Epoch 18/40\n",
            "329/329 [==============================] - 0s 261us/sample - loss: 0.0051 - acc: 0.0061 - val_loss: 0.0050 - val_acc: 0.0000e+00\n",
            "Epoch 19/40\n",
            "329/329 [==============================] - 0s 299us/sample - loss: 0.0050 - acc: 0.0061 - val_loss: 0.0045 - val_acc: 0.0000e+00\n",
            "Epoch 20/40\n",
            "329/329 [==============================] - 0s 293us/sample - loss: 0.0048 - acc: 0.0061 - val_loss: 0.0047 - val_acc: 0.0000e+00\n",
            "Epoch 21/40\n",
            "329/329 [==============================] - 0s 234us/sample - loss: 0.0047 - acc: 0.0061 - val_loss: 0.0042 - val_acc: 0.0000e+00\n",
            "Epoch 22/40\n",
            "329/329 [==============================] - 0s 250us/sample - loss: 0.0046 - acc: 0.0061 - val_loss: 0.0050 - val_acc: 0.0000e+00\n",
            "Epoch 23/40\n",
            "329/329 [==============================] - 0s 241us/sample - loss: 0.0047 - acc: 0.0061 - val_loss: 0.0040 - val_acc: 0.0000e+00\n",
            "Epoch 24/40\n",
            "329/329 [==============================] - 0s 226us/sample - loss: 0.0044 - acc: 0.0061 - val_loss: 0.0043 - val_acc: 0.0000e+00\n",
            "Epoch 25/40\n",
            "329/329 [==============================] - 0s 221us/sample - loss: 0.0043 - acc: 0.0061 - val_loss: 0.0043 - val_acc: 0.0000e+00\n",
            "Epoch 26/40\n",
            "329/329 [==============================] - 0s 231us/sample - loss: 0.0043 - acc: 0.0061 - val_loss: 0.0044 - val_acc: 0.0000e+00\n",
            "Epoch 27/40\n",
            "329/329 [==============================] - 0s 250us/sample - loss: 0.0041 - acc: 0.0061 - val_loss: 0.0039 - val_acc: 0.0000e+00\n",
            "Epoch 28/40\n",
            "329/329 [==============================] - 0s 228us/sample - loss: 0.0041 - acc: 0.0061 - val_loss: 0.0037 - val_acc: 0.0000e+00\n",
            "Epoch 29/40\n",
            "329/329 [==============================] - 0s 223us/sample - loss: 0.0040 - acc: 0.0061 - val_loss: 0.0038 - val_acc: 0.0000e+00\n",
            "Epoch 30/40\n",
            "329/329 [==============================] - 0s 232us/sample - loss: 0.0039 - acc: 0.0061 - val_loss: 0.0040 - val_acc: 0.0000e+00\n",
            "Epoch 31/40\n",
            "329/329 [==============================] - 0s 236us/sample - loss: 0.0038 - acc: 0.0061 - val_loss: 0.0033 - val_acc: 0.0000e+00\n",
            "Epoch 32/40\n",
            "329/329 [==============================] - 0s 234us/sample - loss: 0.0037 - acc: 0.0061 - val_loss: 0.0037 - val_acc: 0.0000e+00\n",
            "Epoch 33/40\n",
            "329/329 [==============================] - 0s 233us/sample - loss: 0.0036 - acc: 0.0061 - val_loss: 0.0033 - val_acc: 0.0000e+00\n",
            "Epoch 34/40\n",
            "329/329 [==============================] - 0s 232us/sample - loss: 0.0035 - acc: 0.0061 - val_loss: 0.0038 - val_acc: 0.0000e+00\n",
            "Epoch 35/40\n",
            "329/329 [==============================] - 0s 239us/sample - loss: 0.0034 - acc: 0.0061 - val_loss: 0.0032 - val_acc: 0.0000e+00\n",
            "Epoch 36/40\n",
            "329/329 [==============================] - 0s 240us/sample - loss: 0.0034 - acc: 0.0061 - val_loss: 0.0036 - val_acc: 0.0000e+00\n",
            "Epoch 37/40\n",
            "329/329 [==============================] - 0s 226us/sample - loss: 0.0033 - acc: 0.0061 - val_loss: 0.0030 - val_acc: 0.0000e+00\n",
            "Epoch 38/40\n",
            "329/329 [==============================] - 0s 239us/sample - loss: 0.0032 - acc: 0.0061 - val_loss: 0.0030 - val_acc: 0.0000e+00\n",
            "Epoch 39/40\n",
            "329/329 [==============================] - 0s 226us/sample - loss: 0.0031 - acc: 0.0061 - val_loss: 0.0030 - val_acc: 0.0000e+00\n",
            "Epoch 40/40\n",
            "329/329 [==============================] - 0s 248us/sample - loss: 0.0031 - acc: 0.0061 - val_loss: 0.0028 - val_acc: 0.0000e+00\n",
            "Training time: 4.929312467575073s\n"
          ],
          "name": "stdout"
        }
      ]
    },
    {
      "cell_type": "code",
      "metadata": {
        "id": "ktRMI5GpYsHd",
        "colab_type": "code",
        "colab": {}
      },
      "source": [
        "performance_log_fastrnn=pd.read_csv('model_history_log_fastrnn.csv')"
      ],
      "execution_count": 27,
      "outputs": []
    },
    {
      "cell_type": "code",
      "metadata": {
        "id": "7a3m7zS9mc8-",
        "colab_type": "code",
        "colab": {
          "base_uri": "https://localhost:8080/",
          "height": 34
        },
        "outputId": "0b01cf97-887f-49a4-cfa0-467d9fb8ccf0"
      },
      "source": [
        "time_fastrnn= stop-start\n",
        "print(time_fastrnn)"
      ],
      "execution_count": 28,
      "outputs": [
        {
          "output_type": "stream",
          "text": [
            "4.929312467575073\n"
          ],
          "name": "stdout"
        }
      ]
    },
    {
      "cell_type": "markdown",
      "metadata": {
        "colab_type": "text",
        "id": "bZqKf0rWSBjy"
      },
      "source": [
        "Finding MSE\n"
      ]
    },
    {
      "cell_type": "code",
      "metadata": {
        "colab_type": "code",
        "id": "Em6TxF1xrpYV",
        "colab": {
          "base_uri": "https://localhost:8080/",
          "height": 34
        },
        "outputId": "9a6109a2-fb3e-45ba-e812-d2a128378f80"
      },
      "source": [
        "# Getting the models predicted price values\n",
        " \n",
        "predictions_fastgrnn = model.predict(x_test)\n",
        "predictions_fastgrnn = scaler.inverse_transform(predictions_fastgrnn)#Undo scaling\n",
        "#Calculate/Get the value of RMSE\n",
        "\n",
        "mse_fastgrnn= mean_squared_error(y_test, predictions_fastgrnn )\n",
        "rmse_fastgrnn = math.sqrt(mse_fastgrnn)\n",
        "print(rmse_fastgrnn)\n"
      ],
      "execution_count": 29,
      "outputs": [
        {
          "output_type": "stream",
          "text": [
            "0.27055256889899304\n"
          ],
          "name": "stdout"
        }
      ]
    },
    {
      "cell_type": "code",
      "metadata": {
        "id": "8Or-RvrYPAOp",
        "colab_type": "code",
        "colab": {
          "base_uri": "https://localhost:8080/",
          "height": 34
        },
        "outputId": "8cd3a9e3-bcc1-4798-e8bb-d8cbc6eedf62"
      },
      "source": [
        "from sklearn.metrics import r2_score\n",
        "\n",
        "cod_fastrnn = r2_score(y_test, predictions_fastgrnn)\n",
        "print(cod_fastrnn)"
      ],
      "execution_count": 30,
      "outputs": [
        {
          "output_type": "stream",
          "text": [
            "0.7714156062623501\n"
          ],
          "name": "stdout"
        }
      ]
    },
    {
      "cell_type": "markdown",
      "metadata": {
        "colab_type": "text",
        "id": "y5NN9wtm8v0t"
      },
      "source": [
        "#####################################LSTM"
      ]
    },
    {
      "cell_type": "code",
      "metadata": {
        "id": "P5bzGGm159nB",
        "colab_type": "code",
        "colab": {}
      },
      "source": [
        "# print(data_1)\n",
        "data_1=pd.read_csv('Apple_2.csv')"
      ],
      "execution_count": 180,
      "outputs": []
    },
    {
      "cell_type": "code",
      "metadata": {
        "colab_type": "code",
        "id": "mj-cX82J6hUZ",
        "colab": {}
      },
      "source": [
        "df = data_1\n",
        "data_2 = df.filter(['Close'])\n",
        "# len(data_2)\n",
        "data_2 = data_2[data_2['Close'].notna()]\n",
        "# len(data_2)"
      ],
      "execution_count": 181,
      "outputs": []
    },
    {
      "cell_type": "code",
      "metadata": {
        "colab_type": "code",
        "id": "4YwxhVNr6lhA",
        "colab": {}
      },
      "source": [
        "\n",
        "\n",
        "#Converting the dataframe to a numpy array\n",
        "dataset = data_2.values\n",
        "#Get /Compute the number of rows to train the model on\n",
        "training_data_len = math.ceil( len(dataset) -50) \n",
        "# training_data_len = math.ceil( len(dataset) *.6)\n",
        "\n",
        "\n",
        "\n",
        "\n",
        "#Scale the all of the data to be values between 0 and 1 \n",
        "scaler = MinMaxScaler(feature_range=(0, 1)) \n",
        "scaled_data = scaler.fit_transform(dataset)\n",
        "\n",
        "\n",
        "#Create the scaled training data set \n",
        "train_data = scaled_data[0:training_data_len  , : ]\n",
        "#Split the data into x_train and y_train data sets\n",
        "x_train=[]\n",
        "y_train = []\n",
        "for i in range(10,len(train_data)):\n",
        "    x_train.append(train_data[i-10:i,0])\n",
        "    y_train.append(train_data[i,0])\n",
        "\n",
        "\n",
        "#Convert x_train and y_train to numpy arrays\n",
        "x_train, y_train = np.array(x_train), np.array(y_train)    \n",
        "\n",
        "\n",
        "#Reshape the data into the shape accepted by the LSTM\n",
        "x_train = np.reshape(x_train, (x_train.shape[0],x_train.shape[1],1))"
      ],
      "execution_count": 182,
      "outputs": []
    },
    {
      "cell_type": "code",
      "metadata": {
        "colab_type": "code",
        "id": "cV_wU34D6p4w",
        "colab": {}
      },
      "source": [
        "#Test data set\n",
        "test_data = scaled_data[training_data_len - 10: , : ]\n",
        "#Create the x_test and y_test data sets\n",
        "x_test = []\n",
        "y_test =  dataset[training_data_len : , : ] \n",
        "for i in range(10,len(test_data)):\n",
        "    x_test.append(test_data[i-10:i,0])\n",
        "\n",
        "\n",
        "\n",
        "#Convert x_test to a numpy array \n",
        "x_test = np.array(x_test)\n",
        "\n",
        "#Reshape the data into the shape accepted by the LSTM\n",
        "x_test = np.reshape(x_test, (x_test.shape[0],x_test.shape[1],1))"
      ],
      "execution_count": 183,
      "outputs": []
    },
    {
      "cell_type": "code",
      "metadata": {
        "colab_type": "code",
        "id": "P7H2kfVd8NwN",
        "colab": {}
      },
      "source": [
        "from keras.models import Sequential\n",
        "from keras.layers import Dense, LSTM\n",
        "from keras.optimizers import Adam"
      ],
      "execution_count": 184,
      "outputs": []
    },
    {
      "cell_type": "code",
      "metadata": {
        "colab_type": "code",
        "id": "An6tIio98LPa",
        "colab": {}
      },
      "source": [
        "\n",
        "\n",
        "#Build the LSTM network model\n",
        "model_lstm = Sequential()\n",
        "model_lstm.add(LSTM(units=1, return_sequences=False,input_shape=(x_train.shape[1],1)))\n",
        "# model_lstm.add(LSTM(units=1, return_sequences=False))\n",
        "# model_lstm.add(Dense(units=25))\n",
        "model_lstm.add(Dense(units=1))\n",
        "\n",
        "\n",
        "#Compile the model\n",
        "model_lstm.compile(optimizer=Adam(lr=0.001), loss='mean_squared_error')\n"
      ],
      "execution_count": 185,
      "outputs": []
    },
    {
      "cell_type": "code",
      "metadata": {
        "colab_type": "code",
        "id": "vgepvXt-7vke",
        "colab": {}
      },
      "source": [
        "csv_logger_lstm = CSVLogger(\"model_history_log_lstm.csv\", append=True)\n"
      ],
      "execution_count": 186,
      "outputs": []
    },
    {
      "cell_type": "code",
      "metadata": {
        "colab_type": "code",
        "id": "TbnJj1cC6y9V",
        "colab": {
          "base_uri": "https://localhost:8080/",
          "height": 1000
        },
        "outputId": "9c3b50d3-5552-4775-9914-6d7af68f894d"
      },
      "source": [
        "start_lstm = time.time()\n",
        " \n",
        "#Train the model\n",
        "model_lstm.fit(x_train, y_train, batch_size=10, epochs=40,validation_data=(x_test, scaled_data[training_data_len : , : ]),callbacks=[csv_logger_lstm]) \n",
        " \n",
        "stop_lstm = time.time()\n",
        "print(f\"Training time: {stop_lstm - start_lstm}s\")"
      ],
      "execution_count": 187,
      "outputs": [
        {
          "output_type": "stream",
          "text": [
            "Train on 329 samples, validate on 50 samples\n",
            "Epoch 1/40\n",
            "329/329 [==============================] - 2s 6ms/step - loss: 0.1437 - val_loss: 0.0956\n",
            "Epoch 2/40\n",
            "329/329 [==============================] - 0s 639us/step - loss: 0.1184 - val_loss: 0.0720\n",
            "Epoch 3/40\n",
            "329/329 [==============================] - 0s 469us/step - loss: 0.0943 - val_loss: 0.0500\n",
            "Epoch 4/40\n",
            "329/329 [==============================] - 0s 626us/step - loss: 0.0729 - val_loss: 0.0320\n",
            "Epoch 5/40\n",
            "329/329 [==============================] - 0s 641us/step - loss: 0.0567 - val_loss: 0.0203\n",
            "Epoch 6/40\n",
            "329/329 [==============================] - 0s 651us/step - loss: 0.0470 - val_loss: 0.0143\n",
            "Epoch 7/40\n",
            "329/329 [==============================] - 0s 662us/step - loss: 0.0420 - val_loss: 0.0119\n",
            "Epoch 8/40\n",
            "329/329 [==============================] - 0s 697us/step - loss: 0.0391 - val_loss: 0.0109\n",
            "Epoch 9/40\n",
            "329/329 [==============================] - 0s 564us/step - loss: 0.0367 - val_loss: 0.0100\n",
            "Epoch 10/40\n",
            "329/329 [==============================] - 0s 519us/step - loss: 0.0340 - val_loss: 0.0093\n",
            "Epoch 11/40\n",
            "329/329 [==============================] - 0s 564us/step - loss: 0.0313 - val_loss: 0.0086\n",
            "Epoch 12/40\n",
            "329/329 [==============================] - 0s 563us/step - loss: 0.0284 - val_loss: 0.0078\n",
            "Epoch 13/40\n",
            "329/329 [==============================] - 0s 561us/step - loss: 0.0255 - val_loss: 0.0071\n",
            "Epoch 14/40\n",
            "329/329 [==============================] - 0s 741us/step - loss: 0.0226 - val_loss: 0.0064\n",
            "Epoch 15/40\n",
            "329/329 [==============================] - 0s 627us/step - loss: 0.0199 - val_loss: 0.0057\n",
            "Epoch 16/40\n",
            "329/329 [==============================] - 0s 668us/step - loss: 0.0174 - val_loss: 0.0052\n",
            "Epoch 17/40\n",
            "329/329 [==============================] - 0s 807us/step - loss: 0.0152 - val_loss: 0.0050\n",
            "Epoch 18/40\n",
            "329/329 [==============================] - 0s 705us/step - loss: 0.0134 - val_loss: 0.0047\n",
            "Epoch 19/40\n",
            "329/329 [==============================] - 0s 629us/step - loss: 0.0120 - val_loss: 0.0049\n",
            "Epoch 20/40\n",
            "329/329 [==============================] - 0s 613us/step - loss: 0.0108 - val_loss: 0.0045\n",
            "Epoch 21/40\n",
            "329/329 [==============================] - 0s 608us/step - loss: 0.0099 - val_loss: 0.0046\n",
            "Epoch 22/40\n",
            "329/329 [==============================] - 0s 632us/step - loss: 0.0092 - val_loss: 0.0047\n",
            "Epoch 23/40\n",
            "329/329 [==============================] - 0s 643us/step - loss: 0.0086 - val_loss: 0.0046\n",
            "Epoch 24/40\n",
            "329/329 [==============================] - 0s 646us/step - loss: 0.0081 - val_loss: 0.0047\n",
            "Epoch 25/40\n",
            "329/329 [==============================] - 0s 669us/step - loss: 0.0077 - val_loss: 0.0048\n",
            "Epoch 26/40\n",
            "329/329 [==============================] - 0s 628us/step - loss: 0.0074 - val_loss: 0.0048\n",
            "Epoch 27/40\n",
            "329/329 [==============================] - 0s 760us/step - loss: 0.0070 - val_loss: 0.0051\n",
            "Epoch 28/40\n",
            "329/329 [==============================] - 0s 667us/step - loss: 0.0067 - val_loss: 0.0048\n",
            "Epoch 29/40\n",
            "329/329 [==============================] - 0s 671us/step - loss: 0.0065 - val_loss: 0.0049\n",
            "Epoch 30/40\n",
            "329/329 [==============================] - 0s 767us/step - loss: 0.0063 - val_loss: 0.0046\n",
            "Epoch 31/40\n",
            "329/329 [==============================] - 0s 658us/step - loss: 0.0061 - val_loss: 0.0047\n",
            "Epoch 32/40\n",
            "329/329 [==============================] - 0s 626us/step - loss: 0.0059 - val_loss: 0.0047\n",
            "Epoch 33/40\n",
            "329/329 [==============================] - 0s 630us/step - loss: 0.0058 - val_loss: 0.0047\n",
            "Epoch 34/40\n",
            "329/329 [==============================] - 0s 623us/step - loss: 0.0056 - val_loss: 0.0044\n",
            "Epoch 35/40\n",
            "329/329 [==============================] - 0s 609us/step - loss: 0.0055 - val_loss: 0.0046\n",
            "Epoch 36/40\n",
            "329/329 [==============================] - 0s 688us/step - loss: 0.0053 - val_loss: 0.0045\n",
            "Epoch 37/40\n",
            "329/329 [==============================] - 0s 640us/step - loss: 0.0052 - val_loss: 0.0044\n",
            "Epoch 38/40\n",
            "329/329 [==============================] - 0s 634us/step - loss: 0.0051 - val_loss: 0.0042\n",
            "Epoch 39/40\n",
            "329/329 [==============================] - 0s 620us/step - loss: 0.0050 - val_loss: 0.0042\n",
            "Epoch 40/40\n",
            "329/329 [==============================] - 0s 616us/step - loss: 0.0049 - val_loss: 0.0041\n",
            "Training time: 13.336083173751831s\n"
          ],
          "name": "stdout"
        }
      ]
    },
    {
      "cell_type": "code",
      "metadata": {
        "id": "bGj4gbw-fIpT",
        "colab_type": "code",
        "colab": {}
      },
      "source": [
        "performance_log_lstm=pd.read_csv('model_history_log_lstm.csv')"
      ],
      "execution_count": 188,
      "outputs": []
    },
    {
      "cell_type": "code",
      "metadata": {
        "id": "4GNr-EiJm-cE",
        "colab_type": "code",
        "colab": {}
      },
      "source": [
        "time_lstm_1=stop_lstm-start_lstm"
      ],
      "execution_count": 189,
      "outputs": []
    },
    {
      "cell_type": "code",
      "metadata": {
        "colab_type": "code",
        "id": "1Ilu8cAf66-M",
        "colab": {
          "base_uri": "https://localhost:8080/",
          "height": 34
        },
        "outputId": "aca55007-a427-4661-8a54-97db52c0d092"
      },
      "source": [
        "#Getting the models predicted price values\n",
        "predictions_lstm = model_lstm.predict(x_test) \n",
        "predictions_lstm = scaler.inverse_transform(predictions_lstm)#Undo scaling\n",
        "\n",
        "#Calculate/Get the value of RMSE\n",
        "rmse_lstm_1=np.sqrt(np.mean(((predictions_lstm- y_test)**2)))\n",
        "print(rmse_lstm_1)"
      ],
      "execution_count": 190,
      "outputs": [
        {
          "output_type": "stream",
          "text": [
            "0.32539036574473745\n"
          ],
          "name": "stdout"
        }
      ]
    },
    {
      "cell_type": "code",
      "metadata": {
        "colab_type": "code",
        "id": "wjz_xEQcAido",
        "colab": {
          "base_uri": "https://localhost:8080/",
          "height": 34
        },
        "outputId": "db66ac2d-eb02-43e4-f517-7979b07f8f3d"
      },
      "source": [
        "\n",
        "cod_lstm_1 = r2_score(y_test, predictions_lstm)\n",
        "print(cod_lstm_1)"
      ],
      "execution_count": 191,
      "outputs": [
        {
          "output_type": "stream",
          "text": [
            "0.6693621010366133\n"
          ],
          "name": "stdout"
        }
      ]
    },
    {
      "cell_type": "code",
      "metadata": {
        "colab_type": "code",
        "id": "shWc_93ooAwO",
        "colab": {
          "base_uri": "https://localhost:8080/",
          "height": 294
        },
        "outputId": "417ea5cc-9edb-46e9-94ca-70ff754a7675"
      },
      "source": [
        "train = data[:training_data_len]\n",
        "valid = data[training_data_len:]\n",
        "valid['FastGRNN'] = predictions_fastgrnn\n",
        "valid['LSTM'] = predictions_lstm"
      ],
      "execution_count": 192,
      "outputs": [
        {
          "output_type": "stream",
          "text": [
            "/usr/local/lib/python3.6/dist-packages/ipykernel_launcher.py:3: SettingWithCopyWarning:\n",
            "\n",
            "\n",
            "A value is trying to be set on a copy of a slice from a DataFrame.\n",
            "Try using .loc[row_indexer,col_indexer] = value instead\n",
            "\n",
            "See the caveats in the documentation: https://pandas.pydata.org/pandas-docs/stable/user_guide/indexing.html#returning-a-view-versus-a-copy\n",
            "\n",
            "/usr/local/lib/python3.6/dist-packages/ipykernel_launcher.py:4: SettingWithCopyWarning:\n",
            "\n",
            "\n",
            "A value is trying to be set on a copy of a slice from a DataFrame.\n",
            "Try using .loc[row_indexer,col_indexer] = value instead\n",
            "\n",
            "See the caveats in the documentation: https://pandas.pydata.org/pandas-docs/stable/user_guide/indexing.html#returning-a-view-versus-a-copy\n",
            "\n"
          ],
          "name": "stderr"
        }
      ]
    },
    {
      "cell_type": "code",
      "metadata": {
        "colab_type": "code",
        "id": "g3HgkuNJaowS",
        "colab": {}
      },
      "source": [
        "valid = valid.reset_index(drop=True)"
      ],
      "execution_count": 193,
      "outputs": []
    },
    {
      "cell_type": "markdown",
      "metadata": {
        "colab_type": "text",
        "id": "aumt9rlAhAiv"
      },
      "source": [
        "##FB Prophet\n"
      ]
    },
    {
      "cell_type": "code",
      "metadata": {
        "id": "5kLrd6izwxth",
        "colab_type": "code",
        "colab": {}
      },
      "source": [
        "from fbprophet import Prophet"
      ],
      "execution_count": 194,
      "outputs": []
    },
    {
      "cell_type": "code",
      "metadata": {
        "id": "CtCAiEbew0T3",
        "colab_type": "code",
        "colab": {}
      },
      "source": [
        "df_fb=df\n",
        "df_fb['Time_b'] = pd.to_datetime(df_fb.Time_b,format='%Y-%m-%d')\n",
        "df_fb.index = df_fb['Time_b']"
      ],
      "execution_count": 195,
      "outputs": []
    },
    {
      "cell_type": "code",
      "metadata": {
        "id": "xv-PHmqkw-gN",
        "colab_type": "code",
        "colab": {
          "base_uri": "https://localhost:8080/",
          "height": 69
        },
        "outputId": "4f6d612a-2d25-4732-ea32-6d16f61aac09"
      },
      "source": [
        "#preparing data\n",
        "df_fb.rename(columns={'Close': 'y', 'Time_b': 'ds'}, inplace=True)\n",
        "\n",
        "#train and validation\n",
        "train_fb = df_fb[:training_data_len]\n",
        "valid_fb = df_fb[training_data_len:]\n",
        "\n",
        "#fit the model\n",
        "model_fb = Prophet(daily_seasonality=True)#,yearly_seasonality=True)\n",
        "\n",
        "\n",
        "start_fb=time.time()\n",
        "model_fb.fit(train_fb)\n",
        "stop_fb = time.time()\n",
        "print(f\"Training time: {stop_fb - start_fb}s\")\n",
        "\n",
        "\n",
        "\n",
        "#predictions\n",
        "close_prices_fb = model_fb.make_future_dataframe(periods=len(valid_fb), freq='1min')\n",
        "forecast_fb = model_fb.predict(close_prices_fb)"
      ],
      "execution_count": 196,
      "outputs": [
        {
          "output_type": "stream",
          "text": [
            "INFO:fbprophet:Disabling yearly seasonality. Run prophet with yearly_seasonality=True to override this.\n",
            "INFO:fbprophet:Disabling weekly seasonality. Run prophet with weekly_seasonality=True to override this.\n"
          ],
          "name": "stderr"
        },
        {
          "output_type": "stream",
          "text": [
            "Training time: 0.5486276149749756s\n"
          ],
          "name": "stdout"
        }
      ]
    },
    {
      "cell_type": "code",
      "metadata": {
        "id": "H-fZbuqYxB99",
        "colab_type": "code",
        "colab": {
          "base_uri": "https://localhost:8080/",
          "height": 69
        },
        "outputId": "238b81ed-9dce-4b25-99cc-de2f3f06d6bf"
      },
      "source": [
        "time_fb=stop_fb-start_fb\n",
        "print(time_fb)\n",
        "#rmse\n",
        "forecast_valid_fb = forecast_fb['yhat'][training_data_len:]\n",
        "# predictions_fb=scaler.inverse_transform(np.array(forecast_valid_fb).reshape(-1,1))\n",
        "predictions_fb=np.array(forecast_valid_fb).reshape(-1,1)\n",
        "predictions_fb=predictions_fb[:-1]\n",
        "rmse_fb=np.sqrt(np.mean(np.power((np.array(valid_fb['y'])-np.array(forecast_valid_fb)),2)))\n",
        "print(rmse_fb)\n",
        "cod_fb = r2_score((valid_fb['y']), (forecast_valid_fb))\n",
        "print(cod_fb)"
      ],
      "execution_count": 197,
      "outputs": [
        {
          "output_type": "stream",
          "text": [
            "0.5486276149749756\n",
            "1.8642244688966214\n",
            "-9.901839196937376\n"
          ],
          "name": "stdout"
        }
      ]
    },
    {
      "cell_type": "code",
      "metadata": {
        "colab_type": "code",
        "id": "AUWrSSO2iV-Q",
        "colab": {}
      },
      "source": [
        "fb_pred_df = pd.DataFrame({'FB_Prophet Predictions':np.array(forecast_valid_fb)})\n",
        "valid['FB_Prophet']=fb_pred_df['FB_Prophet Predictions']"
      ],
      "execution_count": 198,
      "outputs": []
    },
    {
      "cell_type": "code",
      "metadata": {
        "id": "atfeMVQQyLqA",
        "colab_type": "code",
        "colab": {}
      },
      "source": [
        "import matplotlib.pyplot as plt\n",
        "plt.style.use('fivethirtyeight')"
      ],
      "execution_count": 199,
      "outputs": []
    },
    {
      "cell_type": "code",
      "metadata": {
        "colab_type": "code",
        "id": "pbFzu47tviqd",
        "colab": {
          "base_uri": "https://localhost:8080/",
          "height": 722
        },
        "outputId": "a8cb7c97-0ae3-494b-f222-7132af914af2"
      },
      "source": [
        "#Visualize the data\n",
        "plt.figure(figsize=(23,15))\n",
        "plt.title('Nike',fontweight='bold',fontsize=40)\n",
        "plt.xlabel('Minutes', fontsize=22)\n",
        "plt.ylabel(\"Stock Closing Prices\", fontsize=22)\n",
        "# plt.plot(train['Close'], color='green')\n",
        " \n",
        " \n",
        "plt.plot(valid[['Close']], color= 'orange', label='Test_Data')\n",
        "plt.plot(valid[['FastGRNN']],color = 'green',label='FastRNN')\n",
        "plt.plot(valid[['LSTM']],color = 'red',label='LSTM')\n",
        "plt.plot(valid[['FB_Prophet']],color = 'blue',label='FB_Prophet')\n",
        "\n",
        " \n",
        "plt.legend( loc='lower left')\n",
        "plt.savefig('plot_predicted.png')"
      ],
      "execution_count": 200,
      "outputs": [
        {
          "output_type": "display_data",
          "data": {
            "image/png": "[encoded data removed]",
            "text/plain": [
              "<Figure size 1656x1080 with 1 Axes>"
            ]
          },
          "metadata": {
            "tags": []
          }
        }
      ]
    },
    {
      "cell_type": "code",
      "metadata": {
        "id": "_xDxanjRo0iH",
        "colab_type": "code",
        "colab": {
          "base_uri": "https://localhost:8080/",
          "height": 69
        },
        "outputId": "52219b16-90b7-4c9e-fe83-6b825fa124b6"
      },
      "source": [
        "print(time_lstm_1)\n",
        "print(time_fastrnn)\n",
        "print(time_fb)"
      ],
      "execution_count": 201,
      "outputs": [
        {
          "output_type": "stream",
          "text": [
            "13.336083173751831\n",
            "4.929312467575073\n",
            "0.5486276149749756\n"
          ],
          "name": "stdout"
        }
      ]
    },
    {
      "cell_type": "code",
      "metadata": {
        "id": "I3JCxE050M-P",
        "colab_type": "code",
        "colab": {}
      },
      "source": [
        "df_final = pd.DataFrame(columns=['Model_name','RMSE','Time(in sec)','R-Square value'])"
      ],
      "execution_count": 202,
      "outputs": []
    },
    {
      "cell_type": "code",
      "metadata": {
        "id": "5ZxfLD4wmmrY",
        "colab_type": "code",
        "colab": {}
      },
      "source": [
        "df_final.loc[0] = pd.Series({'Model_name': str('FastRNN'),'RMSE':rmse_fastgrnn ,'Time(in sec)':time_fastrnn,'Description':str('-'),'R-Square value': cod_fastrnn})\n",
        "df_final.loc[1] = pd.Series({'Model_name': str('LSTM'),'RMSE':rmse_lstm_1 ,'Time(in sec)':time_lstm_1,'Description':str('-'),'R-Square value':cod_lstm_1})\n",
        "df_final.loc[2] = pd.Series({'Model_name': str('FB_Prophet'),'RMSE':rmse_fb ,'Time(in sec)':time_fb,'Description':str('-'),'R-Square value':cod_fb})"
      ],
      "execution_count": 203,
      "outputs": []
    },
    {
      "cell_type": "code",
      "metadata": {
        "id": "qZMNFCSoyh0P",
        "colab_type": "code",
        "colab": {
          "base_uri": "https://localhost:8080/",
          "height": 86
        },
        "outputId": "9a81d3fa-6b86-4206-eda7-d275dcfe42f0"
      },
      "source": [
        "print(df_final)\n",
        "df_final.to_csv('nike_performance_results.csv', index=False)"
      ],
      "execution_count": 204,
      "outputs": [
        {
          "output_type": "stream",
          "text": [
            "   Model_name      RMSE  Time(in sec)  R-Square value\n",
            "0     FastRNN  0.270553      4.929312        0.771416\n",
            "1        LSTM  0.325390     13.336083        0.669362\n",
            "2  FB_Prophet  1.864224      0.548628       -9.901839\n"
          ],
          "name": "stdout"
        }
      ]
    },
    {
      "cell_type": "code",
      "metadata": {
        "id": "qpq_CmVUytaE",
        "colab_type": "code",
        "colab": {
          "base_uri": "https://localhost:8080/",
          "height": 138
        },
        "outputId": "f6b39649-8c66-491e-adda-52898ce70fbc"
      },
      "source": [
        "df_final"
      ],
      "execution_count": 205,
      "outputs": [
        {
          "output_type": "execute_result",
          "data": {
            "text/html": [
              "<div>\n",
              "<style scoped>\n",
              "    .dataframe tbody tr th:only-of-type {\n",
              "        vertical-align: middle;\n",
              "    }\n",
              "\n",
              "    .dataframe tbody tr th {\n",
              "        vertical-align: top;\n",
              "    }\n",
              "\n",
              "    .dataframe thead th {\n",
              "        text-align: right;\n",
              "    }\n",
              "</style>\n",
              "<table border=\"1\" class=\"dataframe\">\n",
              "  <thead>\n",
              "    <tr style=\"text-align: right;\">\n",
              "      <th></th>\n",
              "      <th>Model_name</th>\n",
              "      <th>RMSE</th>\n",
              "      <th>Time(in sec)</th>\n",
              "      <th>R-Square value</th>\n",
              "    </tr>\n",
              "  </thead>\n",
              "  <tbody>\n",
              "    <tr>\n",
              "      <th>0</th>\n",
              "      <td>FastRNN</td>\n",
              "      <td>0.270553</td>\n",
              "      <td>4.929312</td>\n",
              "      <td>0.771416</td>\n",
              "    </tr>\n",
              "    <tr>\n",
              "      <th>1</th>\n",
              "      <td>LSTM</td>\n",
              "      <td>0.325390</td>\n",
              "      <td>13.336083</td>\n",
              "      <td>0.669362</td>\n",
              "    </tr>\n",
              "    <tr>\n",
              "      <th>2</th>\n",
              "      <td>FB_Prophet</td>\n",
              "      <td>1.864224</td>\n",
              "      <td>0.548628</td>\n",
              "      <td>-9.901839</td>\n",
              "    </tr>\n",
              "  </tbody>\n",
              "</table>\n",
              "</div>"
            ],
            "text/plain": [
              "   Model_name      RMSE  Time(in sec)  R-Square value\n",
              "0     FastRNN  0.270553      4.929312        0.771416\n",
              "1        LSTM  0.325390     13.336083        0.669362\n",
              "2  FB_Prophet  1.864224      0.548628       -9.901839"
            ]
          },
          "metadata": {
            "tags": []
          },
          "execution_count": 205
        }
      ]
    },
    {
      "cell_type": "markdown",
      "metadata": {
        "id": "S1i0IcWifBly",
        "colab_type": "text"
      },
      "source": [
        "# New Section"
      ]
    },
    {
      "cell_type": "code",
      "metadata": {
        "id": "EYbwdWHZZui9",
        "colab_type": "code",
        "colab": {}
      },
      "source": [
        "predicted_results = pd.DataFrame(columns=['Test_Data','FastRNN'  ,'LSTM'  ,'FB_Prophet' ])"
      ],
      "execution_count": 206,
      "outputs": []
    },
    {
      "cell_type": "code",
      "metadata": {
        "id": "txp1xdpnPYsQ",
        "colab_type": "code",
        "colab": {}
      },
      "source": [
        "predicted_results['Test_Data']=np.squeeze(y_test)\n",
        "predicted_results['FastRNN']=np.squeeze(predictions_fastgrnn)\n",
        "predicted_results['LSTM']=np.squeeze(predictions_lstm)\n",
        "predicted_results['FB_Prophet']=np.squeeze(predictions_fb)\n"
      ],
      "execution_count": 207,
      "outputs": []
    },
    {
      "cell_type": "code",
      "metadata": {
        "id": "lz9y9a-DQGe9",
        "colab_type": "code",
        "colab": {
          "base_uri": "https://localhost:8080/",
          "height": 198
        },
        "outputId": "8dd15cbb-31d1-4780-dbf3-76f87ee45f23"
      },
      "source": [
        "predicted_results.head()"
      ],
      "execution_count": 208,
      "outputs": [
        {
          "output_type": "execute_result",
          "data": {
            "text/html": [
              "<div>\n",
              "<style scoped>\n",
              "    .dataframe tbody tr th:only-of-type {\n",
              "        vertical-align: middle;\n",
              "    }\n",
              "\n",
              "    .dataframe tbody tr th {\n",
              "        vertical-align: top;\n",
              "    }\n",
              "\n",
              "    .dataframe thead th {\n",
              "        text-align: right;\n",
              "    }\n",
              "</style>\n",
              "<table border=\"1\" class=\"dataframe\">\n",
              "  <thead>\n",
              "    <tr style=\"text-align: right;\">\n",
              "      <th></th>\n",
              "      <th>Test_Data</th>\n",
              "      <th>FastRNN</th>\n",
              "      <th>LSTM</th>\n",
              "      <th>FB_Prophet</th>\n",
              "    </tr>\n",
              "  </thead>\n",
              "  <tbody>\n",
              "    <tr>\n",
              "      <th>0</th>\n",
              "      <td>387.649994</td>\n",
              "      <td>387.688446</td>\n",
              "      <td>387.650391</td>\n",
              "      <td>387.422984</td>\n",
              "    </tr>\n",
              "    <tr>\n",
              "      <th>1</th>\n",
              "      <td>387.920013</td>\n",
              "      <td>387.696594</td>\n",
              "      <td>387.654694</td>\n",
              "      <td>387.407951</td>\n",
              "    </tr>\n",
              "    <tr>\n",
              "      <th>2</th>\n",
              "      <td>388.209991</td>\n",
              "      <td>387.771423</td>\n",
              "      <td>387.707733</td>\n",
              "      <td>387.392147</td>\n",
              "    </tr>\n",
              "    <tr>\n",
              "      <th>3</th>\n",
              "      <td>388.369995</td>\n",
              "      <td>387.906067</td>\n",
              "      <td>387.801147</td>\n",
              "      <td>387.375569</td>\n",
              "    </tr>\n",
              "    <tr>\n",
              "      <th>4</th>\n",
              "      <td>388.420288</td>\n",
              "      <td>388.048340</td>\n",
              "      <td>387.909546</td>\n",
              "      <td>387.358215</td>\n",
              "    </tr>\n",
              "  </tbody>\n",
              "</table>\n",
              "</div>"
            ],
            "text/plain": [
              "    Test_Data     FastRNN        LSTM  FB_Prophet\n",
              "0  387.649994  387.688446  387.650391  387.422984\n",
              "1  387.920013  387.696594  387.654694  387.407951\n",
              "2  388.209991  387.771423  387.707733  387.392147\n",
              "3  388.369995  387.906067  387.801147  387.375569\n",
              "4  388.420288  388.048340  387.909546  387.358215"
            ]
          },
          "metadata": {
            "tags": []
          },
          "execution_count": 208
        }
      ]
    },
    {
      "cell_type": "code",
      "metadata": {
        "id": "4t1jiRewS2lc",
        "colab_type": "code",
        "colab": {}
      },
      "source": [
        "predicted_results.to_csv('Predicted_Values.csv', index=False)"
      ],
      "execution_count": 209,
      "outputs": []
    },
    {
      "cell_type": "code",
      "metadata": {
        "id": "otjK9kVq9AID",
        "colab_type": "code",
        "colab": {}
      },
      "source": [
        ""
      ],
      "execution_count": 138,
      "outputs": []
    }
  ]
}