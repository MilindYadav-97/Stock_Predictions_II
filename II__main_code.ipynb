{
  "nbformat": 4,
  "nbformat_minor": 0,
  "metadata": {
    "colab": {
      "name": "IEEE_(fbProphet)___THE_FINAL_KON_Kamehameha.ipynb",
      "provenance": [],
      "collapsed_sections": []
    },
    "kernelspec": {
      "display_name": "Python 3",
      "language": "python",
      "name": "python3"
    },
    "language_info": {
      "codemirror_mode": {
        "name": "ipython",
        "version": 3
      },
      "file_extension": ".py",
      "mimetype": "text/x-python",
      "name": "python",
      "nbconvert_exporter": "python",
      "pygments_lexer": "ipython3",
      "version": "3.7.3"
    }
  },
  "cells": [
    {
      "cell_type": "code",
      "metadata": {
        "colab_type": "code",
        "id": "O49vj8RKXLM9",
        "colab": {}
      },
      "source": [
        "# while True:\n",
        "# ping = requests.get('https://query1.finance.yahoo.com/v8/finance/chart/%5ENSEI?range=3d&interval=1m').json()\n",
        "# close = ping['chart']['result'][0]['indicators']['quote'][0]['close']\n",
        "# timestamp = ping['chart']['result'][0]['timestamp']\n",
        "# data_1 = pd.DataFrame({'Close': close, 'Time':timestamp})\n",
        "# data_1['Time_b'] = [datetime.fromtimestamp(x) for x in data_1['Time']]\n",
        "# data_1.drop('Time', axis=1,inplace=True)\n",
        "# data_1.set_index('Time_b',inplace=True)"
      ],
      "execution_count": null,
      "outputs": []
    },
    {
      "cell_type": "code",
      "metadata": {
        "id": "oFWsYsb2Axpw",
        "colab_type": "code",
        "colab": {}
      },
      "source": [
        "# !lscpu |grep 'Model name'\n",
        "# !lscpu | grep 'Socket(s):'\n",
        "# !lscpu | grep 'Core(s) per socket:'\n",
        "# !lscpu | grep 'Thread(s) per core'\n",
        "# !lscpu | grep \"L3 cache\" \n",
        "# !lscpu | grep \"MHz\""
      ],
      "execution_count": 2,
      "outputs": []
    },
    {
      "cell_type": "code",
      "metadata": {
        "id": "0cqmtSMt1E2W",
        "colab_type": "code",
        "colab": {}
      },
      "source": [
        "import pandas as pd\n",
        "from datetime import datetime\n",
        "import time\n",
        "import requests"
      ],
      "execution_count": null,
      "outputs": []
    },
    {
      "cell_type": "code",
      "metadata": {
        "id": "7O-GEm4EirDV",
        "colab_type": "code",
        "colab": {}
      },
      "source": [
        "data_1=pd.read_csv('UBER_2.csv')"
      ],
      "execution_count": null,
      "outputs": []
    },
    {
      "cell_type": "code",
      "metadata": {
        "colab_type": "code",
        "id": "AFFlSqu8tnJW",
        "colab": {}
      },
      "source": [
        " data_1=data_1.reset_index()"
      ],
      "execution_count": null,
      "outputs": []
    },
    {
      "cell_type": "markdown",
      "metadata": {
        "colab_type": "text",
        "id": "jIldrdsQIMxf"
      },
      "source": [
        "Load the required files before proceeding further:"
      ]
    },
    {
      "cell_type": "code",
      "metadata": {
        "colab_type": "code",
        "id": "1OsjgxmazHe_",
        "colab": {}
      },
      "source": [
        "df = data_1"
      ],
      "execution_count": null,
      "outputs": []
    },
    {
      "cell_type": "code",
      "metadata": {
        "colab_type": "code",
        "id": "1Z_5eJhINsZZ",
        "colab": {
          "base_uri": "https://localhost:8080/",
          "height": 34
        },
        "outputId": "5a23275a-ef26-41fe-ab61-402d0d05806e"
      },
      "source": [
        "%tensorflow_version 1.x\n",
        "import helpermethods\n",
        "import tensorflow as tf\n",
        "import numpy as np\n",
        "import sys\n",
        "import os\n",
        "from tensorflow.keras.layers import Dense, Input, RNN\n",
        "from tensorflow.keras.models import Model, Sequential, load_model\n",
        "from tensorflow.keras import backend as K\n",
        "from tensorflow.keras.optimizers import Adam"
      ],
      "execution_count": null,
      "outputs": [
        {
          "output_type": "stream",
          "text": [
            "TensorFlow 1.x selected.\n"
          ],
          "name": "stdout"
        }
      ]
    },
    {
      "cell_type": "code",
      "metadata": {
        "colab_type": "code",
        "id": "vtnmHM-pnn0B",
        "colab": {
          "base_uri": "https://localhost:8080/",
          "height": 34
        },
        "outputId": "9c18847f-81dd-41d7-cc8b-f0a31fc6c87a"
      },
      "source": [
        "print(tf.__version__)"
      ],
      "execution_count": null,
      "outputs": [
        {
          "output_type": "stream",
          "text": [
            "1.15.2\n"
          ],
          "name": "stdout"
        }
      ]
    },
    {
      "cell_type": "code",
      "metadata": {
        "colab_type": "code",
        "id": "g5TT_EX-N0dx",
        "colab": {}
      },
      "source": [
        "#Import keras grnn\n",
        "from rnn import FastGRNNCellKeras, FastRNNCellKeras"
      ],
      "execution_count": null,
      "outputs": []
    },
    {
      "cell_type": "markdown",
      "metadata": {
        "colab_type": "text",
        "id": "MbrEL7OdIqJM"
      },
      "source": [
        "Data Preprocessing"
      ]
    },
    {
      "cell_type": "code",
      "metadata": {
        "colab_type": "code",
        "id": "FgyGwHV7U0Ke",
        "colab": {}
      },
      "source": [
        "import math\n",
        "from sklearn.preprocessing import MinMaxScaler\n",
        "from sklearn.metrics import mean_squared_error "
      ],
      "execution_count": null,
      "outputs": []
    },
    {
      "cell_type": "code",
      "metadata": {
        "colab_type": "code",
        "id": "lJgCAv9xblWl",
        "colab": {}
      },
      "source": [
        "df = df[df['Close'].notna()]"
      ],
      "execution_count": null,
      "outputs": []
    },
    {
      "cell_type": "code",
      "metadata": {
        "colab_type": "code",
        "id": "YHk32cpVbA88",
        "colab": {}
      },
      "source": [
        "data = pd.DataFrame()\n",
        "data['Close']=df['Close']"
      ],
      "execution_count": null,
      "outputs": []
    },
    {
      "cell_type": "code",
      "metadata": {
        "colab_type": "code",
        "id": "UN2fZrfYbc5n",
        "colab": {
          "base_uri": "https://localhost:8080/",
          "height": 86
        },
        "outputId": "1a32baa9-b5c2-44e8-efd8-c8793d3f3e1a"
      },
      "source": [
        "count_nan = len(df) - df.count()\n",
        "print(count_nan)"
      ],
      "execution_count": null,
      "outputs": [
        {
          "output_type": "stream",
          "text": [
            "index     0\n",
            "Time_b    0\n",
            "Close     0\n",
            "dtype: int64\n"
          ],
          "name": "stdout"
        }
      ]
    },
    {
      "cell_type": "code",
      "metadata": {
        "colab_type": "code",
        "id": "R1Rab4btiv66",
        "colab": {
          "base_uri": "https://localhost:8080/",
          "height": 259
        },
        "outputId": "4d0c2051-c9c2-4b5c-a577-dcd295dd60d0"
      },
      "source": [
        "print(data)"
      ],
      "execution_count": null,
      "outputs": [
        {
          "output_type": "stream",
          "text": [
            "         Close\n",
            "0    32.490002\n",
            "1    32.639999\n",
            "2    32.669998\n",
            "3    32.799999\n",
            "4    32.610001\n",
            "..         ...\n",
            "385  32.630001\n",
            "386  32.599998\n",
            "387  32.610001\n",
            "388  32.615002\n",
            "389  32.660000\n",
            "\n",
            "[389 rows x 1 columns]\n"
          ],
          "name": "stdout"
        }
      ]
    },
    {
      "cell_type": "code",
      "metadata": {
        "colab_type": "code",
        "id": "4ia3EDW2Uddv",
        "colab": {}
      },
      "source": [
        "#Converting the dataframe to a numpy array\n",
        "dataset = data.values\n",
        "#Get /Compute the number of rows to train the model on\n",
        "training_data_len = math.ceil( len(dataset)- 50) \n",
        "\n",
        "\n",
        "\n",
        "#Scale the all of the data to be values between 0 and 1 \n",
        "scaler = MinMaxScaler(feature_range=(0, 1)) \n",
        "scaled_data = scaler.fit_transform(dataset)\n",
        "\n",
        "\n",
        "#Create the scaled training data set \n",
        "train_data = scaled_data[0:training_data_len  , : ]\n",
        "#Split the data into x_train and y_train data sets\n",
        "x_train=[]\n",
        "y_train = []\n",
        "for i in range(10,len(train_data)):\n",
        "    x_train.append(train_data[i-10:i,0])\n",
        "    y_train.append(train_data[i,0])\n",
        "\n",
        "\n",
        "#Convert x_train and y_train to numpy arrays\n",
        "x_train, y_train = np.array(x_train), np.array(y_train)    \n",
        "\n",
        "\n",
        "#Reshape the data into the shape accepted by the LSTM\n",
        "x_train = np.reshape(x_train, (x_train.shape[0],x_train.shape[1],1))"
      ],
      "execution_count": null,
      "outputs": []
    },
    {
      "cell_type": "code",
      "metadata": {
        "colab_type": "code",
        "id": "uTip75ZPs_2t",
        "colab": {}
      },
      "source": [
        "\n",
        "#Test data set\n",
        "test_data = scaled_data[training_data_len - 10: , : ]\n",
        "#Create the x_test and y_test data sets\n",
        "x_test = []\n",
        "y_test =  dataset[training_data_len : , : ] #Get all of the rows from index 1603 to the rest and all of the columns (in this case it's only column 'Close'), so 2003 - 1603 = 400 rows of data\n",
        "for i in range(10,len(test_data)):\n",
        "    x_test.append(test_data[i-10:i,0])\n",
        "\n",
        "\n",
        "\n",
        "#Convert x_test to a numpy array \n",
        "x_test = np.array(x_test)\n",
        "\n",
        "#Reshape the data into the shape accepted by the LSTM\n",
        "x_test = np.reshape(x_test, (x_test.shape[0],x_test.shape[1],1))"
      ],
      "execution_count": null,
      "outputs": []
    },
    {
      "cell_type": "code",
      "metadata": {
        "colab_type": "code",
        "id": "FxedeCKyODCK",
        "colab": {}
      },
      "source": [
        "# dataDimension = int(x_train.shape[1]) - 1\n",
        "dataDimension = int(x_train.shape[1]) \n",
        "# print(dataDimension)"
      ],
      "execution_count": null,
      "outputs": []
    },
    {
      "cell_type": "code",
      "metadata": {
        "colab_type": "code",
        "id": "d3tfurMcUQy4",
        "colab": {}
      },
      "source": [
        "cell = \"FastRNN\" \n",
        " \n",
        "inputDims = 10 \n",
        "hiddenDims = 50\n",
        " \n",
        "totalEpochs = 40\n",
        "batchSize = 10\n",
        " \n",
        "learningRate = 0.001 #Change to 0.001,0.002,0.003 if -ve value of r^2 is obtained\n",
        "decayStep = 50\n",
        "decayRate = 0.1\n",
        " \n",
        "outFile = None \n",
        " \n",
        "#low-rank parameterisation for weight matrices. None => Full Rank\n",
        "wRank = None \n",
        "uRank = None \n",
        " \n",
        "# Sparsity of the weight matrices. x => 100*x % are non-zeros\n",
        "# Note: Sparsity inducing is not supported in this code. \n",
        "sW = 1.0 \n",
        "sU = 1.0\n",
        " \n",
        "#Non-linearities for the RNN architecture. Can choose from \"tanh, sigmoid, relu, quantTanh, quantSigm\"\n",
        "update_non_linearity = \"relu\"\n",
        "gate_non_linearity = \"relu\""
      ],
      "execution_count": null,
      "outputs": []
    },
    {
      "cell_type": "code",
      "metadata": {
        "colab_type": "code",
        "id": "SQBrgqjkF8qz",
        "colab": {}
      },
      "source": [
        "assert dataDimension % inputDims == 0, \"Infeasible per step input, Timesteps have to be integer\"\n"
      ],
      "execution_count": null,
      "outputs": []
    },
    {
      "cell_type": "code",
      "metadata": {
        "colab_type": "code",
        "id": "sAVgj0mYh-he",
        "colab": {}
      },
      "source": [
        "cell == \"FastRNN\"\n",
        "FastCell = FastRNNCellKeras(hiddenDims,update_non_linearity=update_non_linearity, wRank=wRank, uRank=uRank)"
      ],
      "execution_count": null,
      "outputs": []
    },
    {
      "cell_type": "code",
      "metadata": {
        "colab_type": "code",
        "id": "73q6BOBO7soH",
        "colab": {}
      },
      "source": [
        "from tensorflow.keras import layers\n"
      ],
      "execution_count": null,
      "outputs": []
    },
    {
      "cell_type": "markdown",
      "metadata": {
        "colab_type": "text",
        "id": "VsEYrwD7JHQq"
      },
      "source": [
        "Create Model"
      ]
    },
    {
      "cell_type": "code",
      "metadata": {
        "colab_type": "code",
        "id": "5_-ZEVwrl-13",
        "colab": {
          "base_uri": "https://localhost:8080/",
          "height": 400
        },
        "outputId": "e101945c-c5d6-4ef4-bb2e-9548201c4925"
      },
      "source": [
        "x = inputs = Input(shape=[int(dataDimension / inputDims), inputDims], name='input')\n",
        "layer_shape = K.int_shape(x)#x.get_shape()\n",
        "print(layer_shape)\n",
        "x = RNN(FastCell, return_sequences=False, name='rnn')(x)\n",
        "\n",
        "\n",
        "out = Dense(1, activation='relu', name='dense')(x)\n",
        "model = Model(inputs=inputs, outputs=out)\n",
        "Adam_ = Adam(lr=0.01)\n",
        "\n",
        "model.compile(optimizer=Adam_, loss='mean_squared_error', metrics=['accuracy'])\n",
        "\n",
        "model.summary()"
      ],
      "execution_count": null,
      "outputs": [
        {
          "output_type": "stream",
          "text": [
            "(None, 1, 10)\n",
            "WARNING:tensorflow:From /tensorflow-1.15.2/python3.6/tensorflow_core/python/keras/initializers.py:143: calling RandomNormal.__init__ (from tensorflow.python.ops.init_ops) with dtype is deprecated and will be removed in a future version.\n",
            "Instructions for updating:\n",
            "Call initializer instance with the dtype argument instead of passing it to the constructor\n",
            "WARNING:tensorflow:From /tensorflow-1.15.2/python3.6/tensorflow_core/python/ops/resource_variable_ops.py:1630: calling BaseResourceVariable.__init__ (from tensorflow.python.ops.resource_variable_ops) with constraint is deprecated and will be removed in a future version.\n",
            "Instructions for updating:\n",
            "If using Keras pass *_constraint arguments to layers.\n",
            "Model: \"model\"\n",
            "_________________________________________________________________\n",
            "Layer (type)                 Output Shape              Param #   \n",
            "=================================================================\n",
            "input (InputLayer)           [(None, 1, 10)]           0         \n",
            "_________________________________________________________________\n",
            "rnn (RNN)                    (None, 50)                3052      \n",
            "_________________________________________________________________\n",
            "dense (Dense)                (None, 1)                 51        \n",
            "=================================================================\n",
            "Total params: 3,103\n",
            "Trainable params: 3,103\n",
            "Non-trainable params: 0\n",
            "_________________________________________________________________\n"
          ],
          "name": "stdout"
        }
      ]
    },
    {
      "cell_type": "code",
      "metadata": {
        "colab_type": "code",
        "id": "3M5yZa52XJ7N",
        "colab": {
          "base_uri": "https://localhost:8080/",
          "height": 86
        },
        "outputId": "54cabd6f-9f2e-42a2-d9c8-1caeb1743af6"
      },
      "source": [
        "print(x_train.shape)\n",
        "x_train = np.reshape(x_train,[x_train.shape[0],1,10])\n",
        "print(x_test.shape)\n",
        "x_test = np.reshape(x_test,[x_test.shape[0],1,10])\n",
        "print(x_train.shape)\n",
        "print(x_test.shape)"
      ],
      "execution_count": null,
      "outputs": [
        {
          "output_type": "stream",
          "text": [
            "(329, 10, 1)\n",
            "(50, 10, 1)\n",
            "(329, 1, 10)\n",
            "(50, 1, 10)\n"
          ],
          "name": "stdout"
        }
      ]
    },
    {
      "cell_type": "code",
      "metadata": {
        "colab_type": "code",
        "id": "vGAGVKNIXu1m",
        "colab": {
          "base_uri": "https://localhost:8080/",
          "height": 34
        },
        "outputId": "a76adc87-68a5-4b0d-99d2-0b1309685f94"
      },
      "source": [
        "import time\n",
        "from keras.callbacks import CSVLogger\n",
        "\n",
        "csv_logger = CSVLogger(\"model_history_log_fastrnn.csv\", append=True)\n"
      ],
      "execution_count": null,
      "outputs": [
        {
          "output_type": "stream",
          "text": [
            "Using TensorFlow backend.\n"
          ],
          "name": "stderr"
        }
      ]
    },
    {
      "cell_type": "code",
      "metadata": {
        "colab_type": "code",
        "id": "oJHvcDEXcFz7",
        "colab": {
          "base_uri": "https://localhost:8080/",
          "height": 1000
        },
        "outputId": "70d5854f-c6cc-4c54-ff7b-b1a7d00e74a1"
      },
      "source": [
        "start = time.time()\n",
        "model.fit(x_train, y_train, batchSize, epochs=totalEpochs, validation_data=(x_test, scaled_data[training_data_len : , : ]), callbacks=[csv_logger])\n",
        "stop = time.time()\n",
        "print(f\"Training time: {stop - start}s\")"
      ],
      "execution_count": null,
      "outputs": [
        {
          "output_type": "stream",
          "text": [
            "WARNING:tensorflow:From /tensorflow-1.15.2/python3.6/tensorflow_core/python/ops/math_grad.py:1424: where (from tensorflow.python.ops.array_ops) is deprecated and will be removed in a future version.\n",
            "Instructions for updating:\n",
            "Use tf.where in 2.0, which has the same broadcast rule as np.where\n",
            "Train on 329 samples, validate on 50 samples\n",
            "Epoch 1/40\n",
            "329/329 [==============================] - 0s 1ms/sample - loss: 0.0654 - acc: 0.0091 - val_loss: 0.0080 - val_acc: 0.0000e+00\n",
            "Epoch 2/40\n",
            "329/329 [==============================] - 0s 246us/sample - loss: 0.0210 - acc: 0.0091 - val_loss: 0.0042 - val_acc: 0.0000e+00\n",
            "Epoch 3/40\n",
            "329/329 [==============================] - 0s 267us/sample - loss: 0.0122 - acc: 0.0091 - val_loss: 0.0034 - val_acc: 0.0000e+00\n",
            "Epoch 4/40\n",
            "329/329 [==============================] - 0s 288us/sample - loss: 0.0101 - acc: 0.0091 - val_loss: 0.0038 - val_acc: 0.0000e+00\n",
            "Epoch 5/40\n",
            "329/329 [==============================] - 0s 241us/sample - loss: 0.0082 - acc: 0.0091 - val_loss: 0.0034 - val_acc: 0.0000e+00\n",
            "Epoch 6/40\n",
            "329/329 [==============================] - 0s 228us/sample - loss: 0.0076 - acc: 0.0091 - val_loss: 0.0028 - val_acc: 0.0000e+00\n",
            "Epoch 7/40\n",
            "329/329 [==============================] - 0s 240us/sample - loss: 0.0071 - acc: 0.0091 - val_loss: 0.0027 - val_acc: 0.0000e+00\n",
            "Epoch 8/40\n",
            "329/329 [==============================] - 0s 278us/sample - loss: 0.0054 - acc: 0.0091 - val_loss: 0.0051 - val_acc: 0.0000e+00\n",
            "Epoch 9/40\n",
            "329/329 [==============================] - 0s 309us/sample - loss: 0.0056 - acc: 0.0091 - val_loss: 0.0023 - val_acc: 0.0000e+00\n",
            "Epoch 10/40\n",
            "329/329 [==============================] - 0s 241us/sample - loss: 0.0051 - acc: 0.0091 - val_loss: 0.0035 - val_acc: 0.0000e+00\n",
            "Epoch 11/40\n",
            "329/329 [==============================] - 0s 268us/sample - loss: 0.0051 - acc: 0.0091 - val_loss: 0.0020 - val_acc: 0.0000e+00\n",
            "Epoch 12/40\n",
            "329/329 [==============================] - 0s 245us/sample - loss: 0.0047 - acc: 0.0091 - val_loss: 0.0022 - val_acc: 0.0000e+00\n",
            "Epoch 13/40\n",
            "329/329 [==============================] - 0s 239us/sample - loss: 0.0050 - acc: 0.0091 - val_loss: 0.0025 - val_acc: 0.0000e+00\n",
            "Epoch 14/40\n",
            "329/329 [==============================] - 0s 284us/sample - loss: 0.0044 - acc: 0.0091 - val_loss: 0.0024 - val_acc: 0.0000e+00\n",
            "Epoch 15/40\n",
            "329/329 [==============================] - 0s 248us/sample - loss: 0.0043 - acc: 0.0091 - val_loss: 0.0020 - val_acc: 0.0000e+00\n",
            "Epoch 16/40\n",
            "329/329 [==============================] - 0s 229us/sample - loss: 0.0048 - acc: 0.0091 - val_loss: 0.0021 - val_acc: 0.0000e+00\n",
            "Epoch 17/40\n",
            "329/329 [==============================] - 0s 232us/sample - loss: 0.0050 - acc: 0.0091 - val_loss: 0.0022 - val_acc: 0.0000e+00\n",
            "Epoch 18/40\n",
            "329/329 [==============================] - 0s 232us/sample - loss: 0.0047 - acc: 0.0091 - val_loss: 0.0038 - val_acc: 0.0000e+00\n",
            "Epoch 19/40\n",
            "329/329 [==============================] - 0s 236us/sample - loss: 0.0050 - acc: 0.0091 - val_loss: 0.0017 - val_acc: 0.0000e+00\n",
            "Epoch 20/40\n",
            "329/329 [==============================] - 0s 257us/sample - loss: 0.0043 - acc: 0.0091 - val_loss: 0.0021 - val_acc: 0.0000e+00\n",
            "Epoch 21/40\n",
            "329/329 [==============================] - 0s 240us/sample - loss: 0.0048 - acc: 0.0091 - val_loss: 0.0024 - val_acc: 0.0000e+00\n",
            "Epoch 22/40\n",
            "329/329 [==============================] - 0s 220us/sample - loss: 0.0046 - acc: 0.0091 - val_loss: 0.0018 - val_acc: 0.0000e+00\n",
            "Epoch 23/40\n",
            "329/329 [==============================] - 0s 229us/sample - loss: 0.0046 - acc: 0.0091 - val_loss: 0.0018 - val_acc: 0.0000e+00\n",
            "Epoch 24/40\n",
            "329/329 [==============================] - 0s 243us/sample - loss: 0.0049 - acc: 0.0091 - val_loss: 0.0018 - val_acc: 0.0000e+00\n",
            "Epoch 25/40\n",
            "329/329 [==============================] - 0s 227us/sample - loss: 0.0040 - acc: 0.0091 - val_loss: 0.0021 - val_acc: 0.0000e+00\n",
            "Epoch 26/40\n",
            "329/329 [==============================] - 0s 245us/sample - loss: 0.0041 - acc: 0.0091 - val_loss: 0.0018 - val_acc: 0.0000e+00\n",
            "Epoch 27/40\n",
            "329/329 [==============================] - 0s 227us/sample - loss: 0.0042 - acc: 0.0091 - val_loss: 0.0017 - val_acc: 0.0000e+00\n",
            "Epoch 28/40\n",
            "329/329 [==============================] - 0s 214us/sample - loss: 0.0040 - acc: 0.0091 - val_loss: 0.0025 - val_acc: 0.0000e+00\n",
            "Epoch 29/40\n",
            "329/329 [==============================] - 0s 223us/sample - loss: 0.0040 - acc: 0.0091 - val_loss: 0.0016 - val_acc: 0.0000e+00\n",
            "Epoch 30/40\n",
            "329/329 [==============================] - 0s 264us/sample - loss: 0.0038 - acc: 0.0091 - val_loss: 0.0022 - val_acc: 0.0000e+00\n",
            "Epoch 31/40\n",
            "329/329 [==============================] - 0s 240us/sample - loss: 0.0044 - acc: 0.0091 - val_loss: 0.0022 - val_acc: 0.0000e+00\n",
            "Epoch 32/40\n",
            "329/329 [==============================] - 0s 250us/sample - loss: 0.0040 - acc: 0.0091 - val_loss: 0.0027 - val_acc: 0.0000e+00\n",
            "Epoch 33/40\n",
            "329/329 [==============================] - 0s 215us/sample - loss: 0.0041 - acc: 0.0091 - val_loss: 0.0017 - val_acc: 0.0000e+00\n",
            "Epoch 34/40\n",
            "329/329 [==============================] - 0s 224us/sample - loss: 0.0050 - acc: 0.0091 - val_loss: 0.0021 - val_acc: 0.0000e+00\n",
            "Epoch 35/40\n",
            "329/329 [==============================] - 0s 219us/sample - loss: 0.0039 - acc: 0.0091 - val_loss: 0.0019 - val_acc: 0.0000e+00\n",
            "Epoch 36/40\n",
            "329/329 [==============================] - 0s 217us/sample - loss: 0.0038 - acc: 0.0091 - val_loss: 0.0016 - val_acc: 0.0000e+00\n",
            "Epoch 37/40\n",
            "329/329 [==============================] - 0s 216us/sample - loss: 0.0037 - acc: 0.0091 - val_loss: 0.0018 - val_acc: 0.0000e+00\n",
            "Epoch 38/40\n",
            "329/329 [==============================] - 0s 249us/sample - loss: 0.0040 - acc: 0.0091 - val_loss: 0.0016 - val_acc: 0.0000e+00\n",
            "Epoch 39/40\n",
            "329/329 [==============================] - 0s 231us/sample - loss: 0.0041 - acc: 0.0091 - val_loss: 0.0016 - val_acc: 0.0000e+00\n",
            "Epoch 40/40\n",
            "329/329 [==============================] - 0s 220us/sample - loss: 0.0038 - acc: 0.0091 - val_loss: 0.0017 - val_acc: 0.0000e+00\n",
            "Training time: 4.068143606185913s\n"
          ],
          "name": "stdout"
        }
      ]
    },
    {
      "cell_type": "code",
      "metadata": {
        "id": "ktRMI5GpYsHd",
        "colab_type": "code",
        "colab": {}
      },
      "source": [
        "performance_log_fastrnn=pd.read_csv('model_history_log_fastrnn.csv')"
      ],
      "execution_count": null,
      "outputs": []
    },
    {
      "cell_type": "code",
      "metadata": {
        "id": "7a3m7zS9mc8-",
        "colab_type": "code",
        "colab": {
          "base_uri": "https://localhost:8080/",
          "height": 34
        },
        "outputId": "341f3971-3d80-4978-f91f-7e085b397543"
      },
      "source": [
        "time_fastrnn= stop-start\n",
        "print(time_fastrnn)"
      ],
      "execution_count": null,
      "outputs": [
        {
          "output_type": "stream",
          "text": [
            "4.068143606185913\n"
          ],
          "name": "stdout"
        }
      ]
    },
    {
      "cell_type": "markdown",
      "metadata": {
        "colab_type": "text",
        "id": "bZqKf0rWSBjy"
      },
      "source": [
        "Finding MSE\n"
      ]
    },
    {
      "cell_type": "code",
      "metadata": {
        "colab_type": "code",
        "id": "Em6TxF1xrpYV",
        "colab": {
          "base_uri": "https://localhost:8080/",
          "height": 34
        },
        "outputId": "3040d29b-5dc8-4d41-832c-8b32c84d6784"
      },
      "source": [
        "# Getting the models predicted price values\n",
        " \n",
        "predictions_fastgrnn = model.predict(x_test)\n",
        "predictions_fastgrnn = scaler.inverse_transform(predictions_fastgrnn)#Undo scaling\n",
        "#Calculate/Get the value of RMSE\n",
        "\n",
        "mse_fastgrnn= mean_squared_error(y_test, predictions_fastgrnn )\n",
        "rmse_fastgrnn = math.sqrt(mse_fastgrnn)\n",
        "print(rmse_fastgrnn)\n"
      ],
      "execution_count": null,
      "outputs": [
        {
          "output_type": "stream",
          "text": [
            "0.02136290959455602\n"
          ],
          "name": "stdout"
        }
      ]
    },
    {
      "cell_type": "code",
      "metadata": {
        "id": "8Or-RvrYPAOp",
        "colab_type": "code",
        "colab": {
          "base_uri": "https://localhost:8080/",
          "height": 34
        },
        "outputId": "5f48c0dc-f454-4307-f8dd-1f9bf48469ad"
      },
      "source": [
        "from sklearn.metrics import r2_score\n",
        "\n",
        "cod_fastrnn = r2_score(y_test, predictions_fastgrnn)\n",
        "print(cod_fastrnn)"
      ],
      "execution_count": null,
      "outputs": [
        {
          "output_type": "stream",
          "text": [
            "0.9039270643321666\n"
          ],
          "name": "stdout"
        }
      ]
    },
    {
      "cell_type": "markdown",
      "metadata": {
        "colab_type": "text",
        "id": "y5NN9wtm8v0t"
      },
      "source": [
        "#####################################LSTM"
      ]
    },
    {
      "cell_type": "code",
      "metadata": {
        "id": "P5bzGGm159nB",
        "colab_type": "code",
        "colab": {}
      },
      "source": [
        "# print(data_1)"
      ],
      "execution_count": null,
      "outputs": []
    },
    {
      "cell_type": "code",
      "metadata": {
        "colab_type": "code",
        "id": "mj-cX82J6hUZ",
        "colab": {}
      },
      "source": [
        "df = data_1\n",
        "data_2 = df.filter(['Close'])\n",
        "# len(data_2)\n",
        "data_2 = data_2[data_2['Close'].notna()]\n",
        "# len(data_2)"
      ],
      "execution_count": null,
      "outputs": []
    },
    {
      "cell_type": "code",
      "metadata": {
        "colab_type": "code",
        "id": "4YwxhVNr6lhA",
        "colab": {}
      },
      "source": [
        "\n",
        "\n",
        "#Converting the dataframe to a numpy array\n",
        "dataset = data_2.values\n",
        "#Get /Compute the number of rows to train the model on\n",
        "training_data_len = math.ceil( len(dataset) -50) \n",
        "# training_data_len = math.ceil( len(dataset) *.6)\n",
        "\n",
        "\n",
        "\n",
        "\n",
        "#Scale the all of the data to be values between 0 and 1 \n",
        "scaler = MinMaxScaler(feature_range=(0, 1)) \n",
        "scaled_data = scaler.fit_transform(dataset)\n",
        "\n",
        "\n",
        "#Create the scaled training data set \n",
        "train_data = scaled_data[0:training_data_len  , : ]\n",
        "#Split the data into x_train and y_train data sets\n",
        "x_train=[]\n",
        "y_train = []\n",
        "for i in range(10,len(train_data)):\n",
        "    x_train.append(train_data[i-10:i,0])\n",
        "    y_train.append(train_data[i,0])\n",
        "\n",
        "\n",
        "#Convert x_train and y_train to numpy arrays\n",
        "x_train, y_train = np.array(x_train), np.array(y_train)    \n",
        "\n",
        "\n",
        "#Reshape the data into the shape accepted by the LSTM\n",
        "x_train = np.reshape(x_train, (x_train.shape[0],x_train.shape[1],1))"
      ],
      "execution_count": null,
      "outputs": []
    },
    {
      "cell_type": "code",
      "metadata": {
        "colab_type": "code",
        "id": "cV_wU34D6p4w",
        "colab": {}
      },
      "source": [
        "#Test data set\n",
        "test_data = scaled_data[training_data_len - 10: , : ]\n",
        "#Create the x_test and y_test data sets\n",
        "x_test = []\n",
        "y_test =  dataset[training_data_len : , : ] \n",
        "for i in range(10,len(test_data)):\n",
        "    x_test.append(test_data[i-10:i,0])\n",
        "\n",
        "\n",
        "\n",
        "#Convert x_test to a numpy array \n",
        "x_test = np.array(x_test)\n",
        "\n",
        "#Reshape the data into the shape accepted by the LSTM\n",
        "x_test = np.reshape(x_test, (x_test.shape[0],x_test.shape[1],1))"
      ],
      "execution_count": null,
      "outputs": []
    },
    {
      "cell_type": "code",
      "metadata": {
        "colab_type": "code",
        "id": "P7H2kfVd8NwN",
        "colab": {}
      },
      "source": [
        "from keras.models import Sequential\n",
        "from keras.layers import Dense, LSTM\n",
        "from keras.optimizers import Adam"
      ],
      "execution_count": null,
      "outputs": []
    },
    {
      "cell_type": "code",
      "metadata": {
        "colab_type": "code",
        "id": "An6tIio98LPa",
        "colab": {}
      },
      "source": [
        "\n",
        "\n",
        "#Build the LSTM network model\n",
        "model_lstm = Sequential()\n",
        "model_lstm.add(LSTM(units=50, return_sequences=True,input_shape=(x_train.shape[1],1)))\n",
        "model_lstm.add(LSTM(units=50, return_sequences=False))\n",
        "model_lstm.add(Dense(units=25))\n",
        "model_lstm.add(Dense(units=1))\n",
        "\n",
        "\n",
        "#Compile the model\n",
        "model_lstm.compile(optimizer=Adam(lr=0.01), loss='mean_squared_error')\n"
      ],
      "execution_count": null,
      "outputs": []
    },
    {
      "cell_type": "code",
      "metadata": {
        "colab_type": "code",
        "id": "vgepvXt-7vke",
        "colab": {}
      },
      "source": [
        "csv_logger_lstm = CSVLogger(\"model_history_log_lstm.csv\", append=True)\n"
      ],
      "execution_count": null,
      "outputs": []
    },
    {
      "cell_type": "code",
      "metadata": {
        "colab_type": "code",
        "id": "TbnJj1cC6y9V",
        "colab": {
          "base_uri": "https://localhost:8080/",
          "height": 1000
        },
        "outputId": "20cb0f42-4261-4ea0-e400-957b092b9e68"
      },
      "source": [
        "start_lstm = time.time()\n",
        " \n",
        "#Train the model\n",
        "model_lstm.fit(x_train, y_train, batch_size=10, epochs=40,validation_data=(x_test, scaled_data[training_data_len : , : ]),callbacks=[csv_logger_lstm]) \n",
        " \n",
        "stop_lstm = time.time()\n",
        "print(f\"Training time: {stop_lstm - start_lstm}s\")"
      ],
      "execution_count": null,
      "outputs": [
        {
          "output_type": "stream",
          "text": [
            "Train on 329 samples, validate on 50 samples\n",
            "Epoch 1/40\n",
            "329/329 [==============================] - 2s 5ms/step - loss: 0.0693 - val_loss: 0.0056\n",
            "Epoch 2/40\n",
            "329/329 [==============================] - 0s 1ms/step - loss: 0.0161 - val_loss: 0.0061\n",
            "Epoch 3/40\n",
            "329/329 [==============================] - 0s 1ms/step - loss: 0.0131 - val_loss: 0.0059\n",
            "Epoch 4/40\n",
            "329/329 [==============================] - 0s 1ms/step - loss: 0.0131 - val_loss: 0.0074\n",
            "Epoch 5/40\n",
            "329/329 [==============================] - 0s 1ms/step - loss: 0.0118 - val_loss: 0.0046\n",
            "Epoch 6/40\n",
            "329/329 [==============================] - 0s 1ms/step - loss: 0.0111 - val_loss: 0.0046\n",
            "Epoch 7/40\n",
            "329/329 [==============================] - 0s 1ms/step - loss: 0.0106 - val_loss: 0.0035\n",
            "Epoch 8/40\n",
            "329/329 [==============================] - 0s 1ms/step - loss: 0.0108 - val_loss: 0.0035\n",
            "Epoch 9/40\n",
            "329/329 [==============================] - 0s 1ms/step - loss: 0.0113 - val_loss: 0.0064\n",
            "Epoch 10/40\n",
            "329/329 [==============================] - 0s 1ms/step - loss: 0.0093 - val_loss: 0.0050\n",
            "Epoch 11/40\n",
            "329/329 [==============================] - 0s 1ms/step - loss: 0.0085 - val_loss: 0.0037\n",
            "Epoch 12/40\n",
            "329/329 [==============================] - 0s 1ms/step - loss: 0.0071 - val_loss: 0.0028\n",
            "Epoch 13/40\n",
            "329/329 [==============================] - 0s 1ms/step - loss: 0.0077 - val_loss: 0.0031\n",
            "Epoch 14/40\n",
            "329/329 [==============================] - 0s 1ms/step - loss: 0.0074 - val_loss: 0.0029\n",
            "Epoch 15/40\n",
            "329/329 [==============================] - 0s 1ms/step - loss: 0.0068 - val_loss: 0.0025\n",
            "Epoch 16/40\n",
            "329/329 [==============================] - 0s 1ms/step - loss: 0.0061 - val_loss: 0.0026\n",
            "Epoch 17/40\n",
            "329/329 [==============================] - 0s 1ms/step - loss: 0.0065 - val_loss: 0.0026\n",
            "Epoch 18/40\n",
            "329/329 [==============================] - 0s 1ms/step - loss: 0.0061 - val_loss: 0.0023\n",
            "Epoch 19/40\n",
            "329/329 [==============================] - 0s 1ms/step - loss: 0.0063 - val_loss: 0.0023\n",
            "Epoch 20/40\n",
            "329/329 [==============================] - 0s 1ms/step - loss: 0.0057 - val_loss: 0.0024\n",
            "Epoch 21/40\n",
            "329/329 [==============================] - 0s 1ms/step - loss: 0.0055 - val_loss: 0.0029\n",
            "Epoch 22/40\n",
            "329/329 [==============================] - 0s 1ms/step - loss: 0.0056 - val_loss: 0.0028\n",
            "Epoch 23/40\n",
            "329/329 [==============================] - 0s 1ms/step - loss: 0.0053 - val_loss: 0.0030\n",
            "Epoch 24/40\n",
            "329/329 [==============================] - 0s 1ms/step - loss: 0.0054 - val_loss: 0.0021\n",
            "Epoch 25/40\n",
            "329/329 [==============================] - 0s 1ms/step - loss: 0.0051 - val_loss: 0.0026\n",
            "Epoch 26/40\n",
            "329/329 [==============================] - 0s 1ms/step - loss: 0.0052 - val_loss: 0.0021\n",
            "Epoch 27/40\n",
            "329/329 [==============================] - 0s 1ms/step - loss: 0.0049 - val_loss: 0.0020\n",
            "Epoch 28/40\n",
            "329/329 [==============================] - 0s 1ms/step - loss: 0.0046 - val_loss: 0.0025\n",
            "Epoch 29/40\n",
            "329/329 [==============================] - 0s 1ms/step - loss: 0.0045 - val_loss: 0.0020\n",
            "Epoch 30/40\n",
            "329/329 [==============================] - 0s 1ms/step - loss: 0.0046 - val_loss: 0.0020\n",
            "Epoch 31/40\n",
            "329/329 [==============================] - 0s 1ms/step - loss: 0.0043 - val_loss: 0.0019\n",
            "Epoch 32/40\n",
            "329/329 [==============================] - 0s 1ms/step - loss: 0.0042 - val_loss: 0.0018\n",
            "Epoch 33/40\n",
            "329/329 [==============================] - 0s 1ms/step - loss: 0.0040 - val_loss: 0.0020\n",
            "Epoch 34/40\n",
            "329/329 [==============================] - 0s 1ms/step - loss: 0.0042 - val_loss: 0.0023\n",
            "Epoch 35/40\n",
            "329/329 [==============================] - 0s 1ms/step - loss: 0.0050 - val_loss: 0.0019\n",
            "Epoch 36/40\n",
            "329/329 [==============================] - 0s 1ms/step - loss: 0.0046 - val_loss: 0.0019\n",
            "Epoch 37/40\n",
            "329/329 [==============================] - 0s 1ms/step - loss: 0.0041 - val_loss: 0.0019\n",
            "Epoch 38/40\n",
            "329/329 [==============================] - 0s 1ms/step - loss: 0.0044 - val_loss: 0.0018\n",
            "Epoch 39/40\n",
            "329/329 [==============================] - 0s 1ms/step - loss: 0.0041 - val_loss: 0.0021\n",
            "Epoch 40/40\n",
            "329/329 [==============================] - 0s 1ms/step - loss: 0.0039 - val_loss: 0.0019\n",
            "Training time: 19.235376119613647s\n"
          ],
          "name": "stdout"
        }
      ]
    },
    {
      "cell_type": "code",
      "metadata": {
        "id": "bGj4gbw-fIpT",
        "colab_type": "code",
        "colab": {}
      },
      "source": [
        "performance_log_lstm=pd.read_csv('model_history_log_lstm.csv')"
      ],
      "execution_count": null,
      "outputs": []
    },
    {
      "cell_type": "code",
      "metadata": {
        "id": "4GNr-EiJm-cE",
        "colab_type": "code",
        "colab": {}
      },
      "source": [
        "time_lstm_1=stop_lstm-start_lstm"
      ],
      "execution_count": null,
      "outputs": []
    },
    {
      "cell_type": "code",
      "metadata": {
        "colab_type": "code",
        "id": "1Ilu8cAf66-M",
        "colab": {
          "base_uri": "https://localhost:8080/",
          "height": 34
        },
        "outputId": "88cb1716-de79-423e-dc5d-a567e2ab1f70"
      },
      "source": [
        "#Getting the models predicted price values\n",
        "predictions_lstm = model_lstm.predict(x_test) \n",
        "predictions_lstm = scaler.inverse_transform(predictions_lstm)#Undo scaling\n",
        "\n",
        "#Calculate/Get the value of RMSE\n",
        "rmse_lstm_1=np.sqrt(np.mean(((predictions_lstm- y_test)**2)))\n",
        "print(rmse_lstm_1)"
      ],
      "execution_count": null,
      "outputs": [
        {
          "output_type": "stream",
          "text": [
            "0.02232177838994563\n"
          ],
          "name": "stdout"
        }
      ]
    },
    {
      "cell_type": "code",
      "metadata": {
        "colab_type": "code",
        "id": "wjz_xEQcAido",
        "colab": {
          "base_uri": "https://localhost:8080/",
          "height": 34
        },
        "outputId": "44962687-c9e0-43d5-dc6a-bf06457c3c08"
      },
      "source": [
        "\n",
        "cod_lstm_1 = r2_score(y_test, predictions_lstm)\n",
        "print(cod_lstm_1)"
      ],
      "execution_count": null,
      "outputs": [
        {
          "output_type": "stream",
          "text": [
            "0.8951090930530443\n"
          ],
          "name": "stdout"
        }
      ]
    },
    {
      "cell_type": "code",
      "metadata": {
        "colab_type": "code",
        "id": "shWc_93ooAwO",
        "colab": {
          "base_uri": "https://localhost:8080/",
          "height": 314
        },
        "outputId": "fd00bbc3-fbac-4838-e678-9a74dfe62fed"
      },
      "source": [
        "train = data[:training_data_len]\n",
        "valid = data[training_data_len:]\n",
        "valid['FastGRNN'] = predictions_fastgrnn\n",
        "valid['LSTM'] = predictions_lstm"
      ],
      "execution_count": null,
      "outputs": [
        {
          "output_type": "stream",
          "text": [
            "/usr/local/lib/python3.6/dist-packages/ipykernel_launcher.py:3: SettingWithCopyWarning:\n",
            "\n",
            "\n",
            "A value is trying to be set on a copy of a slice from a DataFrame.\n",
            "Try using .loc[row_indexer,col_indexer] = value instead\n",
            "\n",
            "See the caveats in the documentation: https://pandas.pydata.org/pandas-docs/stable/user_guide/indexing.html#returning-a-view-versus-a-copy\n",
            "\n",
            "/usr/local/lib/python3.6/dist-packages/ipykernel_launcher.py:4: SettingWithCopyWarning:\n",
            "\n",
            "\n",
            "A value is trying to be set on a copy of a slice from a DataFrame.\n",
            "Try using .loc[row_indexer,col_indexer] = value instead\n",
            "\n",
            "See the caveats in the documentation: https://pandas.pydata.org/pandas-docs/stable/user_guide/indexing.html#returning-a-view-versus-a-copy\n",
            "\n"
          ],
          "name": "stderr"
        }
      ]
    },
    {
      "cell_type": "code",
      "metadata": {
        "colab_type": "code",
        "id": "g3HgkuNJaowS",
        "colab": {}
      },
      "source": [
        "valid = valid.reset_index(drop=True)"
      ],
      "execution_count": null,
      "outputs": []
    },
    {
      "cell_type": "markdown",
      "metadata": {
        "colab_type": "text",
        "id": "aumt9rlAhAiv"
      },
      "source": [
        "##FB Prophet\n"
      ]
    },
    {
      "cell_type": "code",
      "metadata": {
        "id": "5kLrd6izwxth",
        "colab_type": "code",
        "colab": {}
      },
      "source": [
        "from fbprophet import Prophet"
      ],
      "execution_count": null,
      "outputs": []
    },
    {
      "cell_type": "code",
      "metadata": {
        "id": "CtCAiEbew0T3",
        "colab_type": "code",
        "colab": {}
      },
      "source": [
        "df_fb=df\n",
        "df_fb['Time_b'] = pd.to_datetime(df_fb.Time_b,format='%Y-%m-%d')\n",
        "df_fb.index = df_fb['Time_b']"
      ],
      "execution_count": null,
      "outputs": []
    },
    {
      "cell_type": "code",
      "metadata": {
        "id": "xv-PHmqkw-gN",
        "colab_type": "code",
        "colab": {
          "base_uri": "https://localhost:8080/",
          "height": 69
        },
        "outputId": "2bf166df-9156-44c4-ca97-dd7b327e43e6"
      },
      "source": [
        "#preparing data\n",
        "df_fb.rename(columns={'Close': 'y', 'Time_b': 'ds'}, inplace=True)\n",
        "\n",
        "#train and validation\n",
        "train_fb = df_fb[:training_data_len]\n",
        "valid_fb = df_fb[training_data_len:]\n",
        "\n",
        "#fit the model\n",
        "model_fb = Prophet(daily_seasonality=True)#,yearly_seasonality=True)\n",
        "\n",
        "\n",
        "start_fb=time.time()\n",
        "model_fb.fit(train_fb)\n",
        "stop_fb = time.time()\n",
        "print(f\"Training time: {stop_fb - start_fb}s\")\n",
        "\n",
        "\n",
        "\n",
        "#predictions\n",
        "close_prices_fb = model_fb.make_future_dataframe(periods=len(valid_fb), freq='1min')\n",
        "forecast_fb = model_fb.predict(close_prices_fb)"
      ],
      "execution_count": null,
      "outputs": [
        {
          "output_type": "stream",
          "text": [
            "INFO:fbprophet:Disabling yearly seasonality. Run prophet with yearly_seasonality=True to override this.\n",
            "INFO:fbprophet:Disabling weekly seasonality. Run prophet with weekly_seasonality=True to override this.\n"
          ],
          "name": "stderr"
        },
        {
          "output_type": "stream",
          "text": [
            "Training time: 0.6144287586212158s\n"
          ],
          "name": "stdout"
        }
      ]
    },
    {
      "cell_type": "code",
      "metadata": {
        "id": "H-fZbuqYxB99",
        "colab_type": "code",
        "colab": {
          "base_uri": "https://localhost:8080/",
          "height": 69
        },
        "outputId": "795ddc70-eff9-4f37-acbb-bc76a530641c"
      },
      "source": [
        "time_fb=stop_fb-start_fb\n",
        "print(time_fb)\n",
        "#rmse\n",
        "forecast_valid_fb = forecast_fb['yhat'][training_data_len:]\n",
        "# predictions_fb=scaler.inverse_transform(np.array(forecast_valid_fb).reshape(-1,1))\n",
        "predictions_fb=np.array(forecast_valid_fb).reshape(-1,1)\n",
        "predictions_fb=predictions_fb[:-1]\n",
        "rmse_fb=np.sqrt(np.mean(np.power((np.array(valid_fb['y'])-np.array(forecast_valid_fb)),2)))\n",
        "print(rmse_fb)\n",
        "cod_fb = r2_score((valid_fb['y']), (forecast_valid_fb))\n",
        "print(cod_fb)"
      ],
      "execution_count": null,
      "outputs": [
        {
          "output_type": "stream",
          "text": [
            "0.6144287586212158\n",
            "0.17108989843008\n",
            "-4.751454288321099\n"
          ],
          "name": "stdout"
        }
      ]
    },
    {
      "cell_type": "code",
      "metadata": {
        "colab_type": "code",
        "id": "AUWrSSO2iV-Q",
        "colab": {}
      },
      "source": [
        "fb_pred_df = pd.DataFrame({'FB_Prophet Predictions':np.array(forecast_valid_fb)})\n",
        "valid['FB_Prophet']=fb_pred_df['FB_Prophet Predictions']"
      ],
      "execution_count": null,
      "outputs": []
    },
    {
      "cell_type": "code",
      "metadata": {
        "id": "atfeMVQQyLqA",
        "colab_type": "code",
        "colab": {}
      },
      "source": [
        "import matplotlib.pyplot as plt\n",
        "plt.style.use('fivethirtyeight')"
      ],
      "execution_count": null,
      "outputs": []
    },
    {
      "cell_type": "code",
      "metadata": {
        "colab_type": "code",
        "id": "pbFzu47tviqd",
        "colab": {
          "base_uri": "https://localhost:8080/",
          "height": 546
        },
        "outputId": "f93f8328-50c7-4308-eeda-9ce7365021c6"
      },
      "source": [
        "#Visualize the data\n",
        "plt.figure(figsize=(23,15))\n",
        "plt.title('Nike',fontweight='bold',fontsize=40)\n",
        "plt.xlabel('Minutes', fontsize=22)\n",
        "plt.ylabel(\"Stock Closing Prices\", fontsize=22)\n",
        "# plt.plot(train['Close'], color='green')\n",
        " \n",
        " \n",
        "plt.plot(valid[['Close']], color= 'orange', label='Test_Data')\n",
        "plt.plot(valid[['FastGRNN']],color = 'green',label='FastRNN')\n",
        "plt.plot(valid[['LSTM']],color = 'red',label='LSTM')\n",
        "plt.plot(valid[['FB_Prophet']],color = 'blue',label='FB_Prophet')\n",
        "\n",
        " \n",
        "plt.legend( loc='lower left')\n",
        "plt.savefig('plot_predicted.png')"
      ],
      "execution_count": null,
      "outputs": [
        {
          "output_type": "display_data",
          "data": {
            "image/png": "[encoded data removed]",
            "text/plain": [
              "<Figure size 1656x1080 with 1 Axes>"
            ]
          },
          "metadata": {
            "tags": []
          }
        }
      ]
    },
    {
      "cell_type": "code",
      "metadata": {
        "id": "_xDxanjRo0iH",
        "colab_type": "code",
        "colab": {
          "base_uri": "https://localhost:8080/",
          "height": 69
        },
        "outputId": "2d61032e-bdc9-4da7-f97f-918d37bbf2dc"
      },
      "source": [
        "print(time_lstm_1)\n",
        "print(time_fastrnn)\n",
        "print(time_fb)"
      ],
      "execution_count": null,
      "outputs": [
        {
          "output_type": "stream",
          "text": [
            "19.235376119613647\n",
            "4.068143606185913\n",
            "0.6144287586212158\n"
          ],
          "name": "stdout"
        }
      ]
    },
    {
      "cell_type": "code",
      "metadata": {
        "id": "I3JCxE050M-P",
        "colab_type": "code",
        "colab": {}
      },
      "source": [
        "df_final = pd.DataFrame(columns=['Model_name','RMSE','Time(in sec)','R-Square value'])"
      ],
      "execution_count": null,
      "outputs": []
    },
    {
      "cell_type": "code",
      "metadata": {
        "id": "5ZxfLD4wmmrY",
        "colab_type": "code",
        "colab": {}
      },
      "source": [
        "df_final.loc[0] = pd.Series({'Model_name': str('FastRNN'),'RMSE':rmse_fastgrnn ,'Time(in sec)':time_fastrnn,'Description':str('-'),'R-Square value': cod_fastrnn})\n",
        "df_final.loc[1] = pd.Series({'Model_name': str('LSTM'),'RMSE':rmse_lstm_1 ,'Time(in sec)':time_lstm_1,'Description':str('-'),'R-Square value':cod_lstm_1})\n",
        "df_final.loc[2] = pd.Series({'Model_name': str('FB_Prophet'),'RMSE':rmse_fb ,'Time(in sec)':time_fb,'Description':str('-'),'R-Square value':cod_fb})"
      ],
      "execution_count": null,
      "outputs": []
    },
    {
      "cell_type": "code",
      "metadata": {
        "id": "qZMNFCSoyh0P",
        "colab_type": "code",
        "colab": {
          "base_uri": "https://localhost:8080/",
          "height": 86
        },
        "outputId": "0c82e417-b0ea-423a-f789-6f4c120f80bf"
      },
      "source": [
        "print(df_final)\n",
        "df_final.to_csv('nike_performance_results.csv', index=False)"
      ],
      "execution_count": null,
      "outputs": [
        {
          "output_type": "stream",
          "text": [
            "   Model_name      RMSE  Time(in sec)  R-Square value\n",
            "0     FastRNN  0.021363      4.068144        0.903927\n",
            "1        LSTM  0.022322     19.235376        0.895109\n",
            "2  FB_Prophet  0.171090      0.614429       -4.751454\n"
          ],
          "name": "stdout"
        }
      ]
    },
    {
      "cell_type": "code",
      "metadata": {
        "id": "qpq_CmVUytaE",
        "colab_type": "code",
        "colab": {
          "base_uri": "https://localhost:8080/",
          "height": 138
        },
        "outputId": "a302740d-a227-468e-909b-f807e8834dfa"
      },
      "source": [
        "df_final"
      ],
      "execution_count": null,
      "outputs": [
        {
          "output_type": "execute_result",
          "data": {
            "text/html": [
              "<div>\n",
              "<style scoped>\n",
              "    .dataframe tbody tr th:only-of-type {\n",
              "        vertical-align: middle;\n",
              "    }\n",
              "\n",
              "    .dataframe tbody tr th {\n",
              "        vertical-align: top;\n",
              "    }\n",
              "\n",
              "    .dataframe thead th {\n",
              "        text-align: right;\n",
              "    }\n",
              "</style>\n",
              "<table border=\"1\" class=\"dataframe\">\n",
              "  <thead>\n",
              "    <tr style=\"text-align: right;\">\n",
              "      <th></th>\n",
              "      <th>Model_name</th>\n",
              "      <th>RMSE</th>\n",
              "      <th>Time(in sec)</th>\n",
              "      <th>R-Square value</th>\n",
              "    </tr>\n",
              "  </thead>\n",
              "  <tbody>\n",
              "    <tr>\n",
              "      <th>0</th>\n",
              "      <td>FastRNN</td>\n",
              "      <td>0.021363</td>\n",
              "      <td>4.068144</td>\n",
              "      <td>0.903927</td>\n",
              "    </tr>\n",
              "    <tr>\n",
              "      <th>1</th>\n",
              "      <td>LSTM</td>\n",
              "      <td>0.022322</td>\n",
              "      <td>19.235376</td>\n",
              "      <td>0.895109</td>\n",
              "    </tr>\n",
              "    <tr>\n",
              "      <th>2</th>\n",
              "      <td>FB_Prophet</td>\n",
              "      <td>0.171090</td>\n",
              "      <td>0.614429</td>\n",
              "      <td>-4.751454</td>\n",
              "    </tr>\n",
              "  </tbody>\n",
              "</table>\n",
              "</div>"
            ],
            "text/plain": [
              "   Model_name      RMSE  Time(in sec)  R-Square value\n",
              "0     FastRNN  0.021363      4.068144        0.903927\n",
              "1        LSTM  0.022322     19.235376        0.895109\n",
              "2  FB_Prophet  0.171090      0.614429       -4.751454"
            ]
          },
          "metadata": {
            "tags": []
          },
          "execution_count": 118
        }
      ]
    },
    {
      "cell_type": "markdown",
      "metadata": {
        "id": "S1i0IcWifBly",
        "colab_type": "text"
      },
      "source": [
        "# New Section"
      ]
    },
    {
      "cell_type": "code",
      "metadata": {
        "id": "EYbwdWHZZui9",
        "colab_type": "code",
        "colab": {}
      },
      "source": [
        "predicted_results = pd.DataFrame(columns=['Test_Data','FastRNN'  ,'LSTM'  ,'FB_Prophet' ])"
      ],
      "execution_count": null,
      "outputs": []
    },
    {
      "cell_type": "code",
      "metadata": {
        "id": "txp1xdpnPYsQ",
        "colab_type": "code",
        "colab": {}
      },
      "source": [
        "predicted_results['Test_Data']=np.squeeze(y_test)\n",
        "predicted_results['FastRNN']=np.squeeze(predictions_fastgrnn)\n",
        "predicted_results['LSTM']=np.squeeze(predictions_lstm)\n",
        "predicted_results['FB_Prophet']=np.squeeze(predictions_fb)\n"
      ],
      "execution_count": null,
      "outputs": []
    },
    {
      "cell_type": "code",
      "metadata": {
        "id": "lz9y9a-DQGe9",
        "colab_type": "code",
        "colab": {
          "base_uri": "https://localhost:8080/",
          "height": 198
        },
        "outputId": "1d59a9a0-eecc-4a00-b6b1-52865cbea9d4"
      },
      "source": [
        "predicted_results.head()"
      ],
      "execution_count": null,
      "outputs": [
        {
          "output_type": "execute_result",
          "data": {
            "text/html": [
              "<div>\n",
              "<style scoped>\n",
              "    .dataframe tbody tr th:only-of-type {\n",
              "        vertical-align: middle;\n",
              "    }\n",
              "\n",
              "    .dataframe tbody tr th {\n",
              "        vertical-align: top;\n",
              "    }\n",
              "\n",
              "    .dataframe thead th {\n",
              "        text-align: right;\n",
              "    }\n",
              "</style>\n",
              "<table border=\"1\" class=\"dataframe\">\n",
              "  <thead>\n",
              "    <tr style=\"text-align: right;\">\n",
              "      <th></th>\n",
              "      <th>Test_Data</th>\n",
              "      <th>FastRNN</th>\n",
              "      <th>LSTM</th>\n",
              "      <th>FB_Prophet</th>\n",
              "    </tr>\n",
              "  </thead>\n",
              "  <tbody>\n",
              "    <tr>\n",
              "      <th>0</th>\n",
              "      <td>32.419998</td>\n",
              "      <td>32.395611</td>\n",
              "      <td>32.391685</td>\n",
              "      <td>32.417083</td>\n",
              "    </tr>\n",
              "    <tr>\n",
              "      <th>1</th>\n",
              "      <td>32.445000</td>\n",
              "      <td>32.419983</td>\n",
              "      <td>32.410923</td>\n",
              "      <td>32.420174</td>\n",
              "    </tr>\n",
              "    <tr>\n",
              "      <th>2</th>\n",
              "      <td>32.455002</td>\n",
              "      <td>32.442257</td>\n",
              "      <td>32.436722</td>\n",
              "      <td>32.423561</td>\n",
              "    </tr>\n",
              "    <tr>\n",
              "      <th>3</th>\n",
              "      <td>32.470001</td>\n",
              "      <td>32.459400</td>\n",
              "      <td>32.455978</td>\n",
              "      <td>32.427251</td>\n",
              "    </tr>\n",
              "    <tr>\n",
              "      <th>4</th>\n",
              "      <td>32.485001</td>\n",
              "      <td>32.478123</td>\n",
              "      <td>32.471703</td>\n",
              "      <td>32.431251</td>\n",
              "    </tr>\n",
              "  </tbody>\n",
              "</table>\n",
              "</div>"
            ],
            "text/plain": [
              "   Test_Data    FastRNN       LSTM  FB_Prophet\n",
              "0  32.419998  32.395611  32.391685   32.417083\n",
              "1  32.445000  32.419983  32.410923   32.420174\n",
              "2  32.455002  32.442257  32.436722   32.423561\n",
              "3  32.470001  32.459400  32.455978   32.427251\n",
              "4  32.485001  32.478123  32.471703   32.431251"
            ]
          },
          "metadata": {
            "tags": []
          },
          "execution_count": 121
        }
      ]
    },
    {
      "cell_type": "code",
      "metadata": {
        "id": "4t1jiRewS2lc",
        "colab_type": "code",
        "colab": {}
      },
      "source": [
        "predicted_results.to_csv('Predicted_Values.csv', index=False)"
      ],
      "execution_count": null,
      "outputs": []
    }
  ]
}